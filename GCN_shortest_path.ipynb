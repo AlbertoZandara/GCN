{
  "nbformat": 4,
  "nbformat_minor": 0,
  "metadata": {
    "colab": {
      "name": "GCN_shortest_path.ipynb",
      "provenance": [],
      "collapsed_sections": [
        "Pesk5QkHvbYl"
      ],
      "machine_shape": "hm"
    },
    "kernelspec": {
      "display_name": "Python 3",
      "name": "python3"
    }
  },
  "cells": [
    {
      "cell_type": "markdown",
      "metadata": {
        "id": "OSpSp-KeoKdy"
      },
      "source": [
        "<center><h1><font color=yellow size=40px>Tutorial about shortest path prediction with GCNs</font></h1></center>\n",
        "<br>\n",
        "<br>\n",
        "<center><img src=\"https://raw.githubusercontent.com/AlbertoZandara/GCN/main/Misc/alina-grubnyak-ZiQkhI7417A-unsplash.jpg\"/></center>\n",
        "\n",
        "In this notebook it is presented an original approach to predict the shortest path between to nodes in a graph using a Graph Convolutional Neural Network. The pipeline is based on the model introduced by Thomas Kipf in 2017, specifically adapted and implemented for shortest path prediction."
      ]
    },
    {
      "cell_type": "markdown",
      "metadata": {
        "id": "v530zRq24BsO"
      },
      "source": [
        "## Scripts upload\n",
        "\n",
        "In first instance it is necessary to upload the libraries from the Kipf GCN Model in order to take advantage of that stucture."
      ]
    },
    {
      "cell_type": "code",
      "metadata": {
        "id": "sWYi9oezgfKr"
      },
      "source": [
        "from google.colab import files\n",
        "\n",
        "files.upload()"
      ],
      "execution_count": null,
      "outputs": []
    },
    {
      "cell_type": "code",
      "metadata": {
        "id": "6a936hWqhzTh"
      },
      "source": [
        "! mkdir /content/gcn"
      ],
      "execution_count": null,
      "outputs": []
    },
    {
      "cell_type": "code",
      "metadata": {
        "id": "tO-gCMeZh2lv"
      },
      "source": [
        "! mv __init__.py gcn\n",
        "! mv inits.py gcn\n",
        "! mv layers.py gcn\n",
        "! mv metrics.py gcn\n",
        "! mv models.py gcn\n",
        "! mv train.py gcn\n",
        "! mv utils.py gcn"
      ],
      "execution_count": null,
      "outputs": []
    },
    {
      "cell_type": "markdown",
      "metadata": {
        "id": "2BTUbeqEi3ps"
      },
      "source": [
        "## Importing libraries"
      ]
    },
    {
      "cell_type": "code",
      "metadata": {
        "id": "DIzcakrWidD-"
      },
      "source": [
        "from __future__ import division\n",
        "from __future__ import print_function\n",
        "\n",
        "import time\n",
        "import tensorflow as tf\n",
        "from gcn.utils import *\n",
        "from gcn.inits import *\n",
        "from gcn.models import Model,MLP\n",
        "from gcn.layers import *\n",
        "\n",
        "import scipy as sp\n",
        "from scipy import sparse\n",
        "import numpy as np\n",
        "import networkx as nx\n",
        "import matplotlib.pyplot as plt"
      ],
      "execution_count": null,
      "outputs": []
    },
    {
      "cell_type": "markdown",
      "metadata": {
        "id": "PAEixqwiiz6Q"
      },
      "source": [
        "## Graph initialization\n",
        "\n",
        "In this phase the dataset is initialized. It consists on 35000 graphs of 20 nodes not connected between each other. It is generated with Networkx as a \"partition graph\". A partition graph is a graph of subgraphs of defined size (20 in this case) where the nodes belonging to the same subgraph are connected with probability $P_{in}$ (0.3 in this case) and the different subgraphs are connected with probability $P_{out}$ (0 in this case). \n",
        "<br>\n",
        "<br>\n",
        "\n",
        "***WARNING: To perform this notebook at least 25GB of RAM memory are required!***"
      ]
    },
    {
      "cell_type": "code",
      "metadata": {
        "id": "TO4qDnGFjPpi"
      },
      "source": [
        "num_community = 35000                                     #Definition of the number of subgraphs in the graph\n",
        "node = [20 for i in range(num_community)]                 #Definition of the number of nodes for every subgraph\n",
        "GG = nx.random_partition_graph(node,.3,.0,seed=123)       #Definition of the graph with networkx, the probability of interconnection between partitions in .0 so all the partitions are isolated\n",
        "adj_GG = np.zeros((num_community, num_community))         #Definition of a matrix 35000x35000, the partitions are assumed to nodes\n",
        "for edge in GG.edges():\n",
        "    row = edge[0] // num_community                        #Belonging partition of the origin node\n",
        "    col = edge[1] // num_community                        #Belonging partition of the destination node\n",
        "    if row != col:                                        #If the partitions of appartenence are different put a 1 in the relative cell\n",
        "        adj_GG[row][col]=1                                \n",
        "        adj_GG[col][row]=1\n",
        "    \n",
        "adj_sparse = sparse.csr_matrix(adj_GG)                    #Adjaciency matrix of the communities"
      ],
      "execution_count": null,
      "outputs": []
    },
    {
      "cell_type": "markdown",
      "metadata": {
        "id": "YXxOoIhHj-sa"
      },
      "source": [
        "## Compiling features\n",
        "\n",
        "After the initializzation of the graph it is necessary to compile the features matrix. In a partition graphs each partition is considered as a single node (35000 in this case). For this reason it is necessary to fill in the features matrix of each partition (just like a node) the adjaciency matrix of the specific partition."
      ]
    },
    {
      "cell_type": "code",
      "metadata": {
        "id": "NBScFEgUlXDz"
      },
      "source": [
        "partition = GG.graph['partition']                           #This is another graph with 35000 nodes in which subgraphs are assumed as nodes. Is a container of nodes "
      ],
      "execution_count": null,
      "outputs": []
    },
    {
      "cell_type": "code",
      "metadata": {
        "id": "jEPrvIatlYYB"
      },
      "source": [
        "adjlist = [[]]\n",
        "for i in range(len(partition)):                             #len(partition) is 35000\n",
        "    H = GG.subgraph(partition[i])                           #the i-th subgraph\n",
        "    adj = nx.adjacency_matrix(H).todense().tolist()         #Is a python list containing the adjaciency matrix 2D\n",
        "    for element in adj:\n",
        "        adjlist[i].extend(element)                          #Is a 2D matrix with the adjaciency matrix (reported as a list) of the i-th subgraph in the i-th raw\n",
        "    adjlist.append([])\n",
        "    \n",
        "adjlist = adjlist[:-1]\n",
        "adj_input = np.array(adjlist)\n",
        "features_sparse = sparse.csr_matrix(adj_input)"
      ],
      "execution_count": null,
      "outputs": []
    },
    {
      "cell_type": "code",
      "metadata": {
        "id": "hBeT0yfxljs8"
      },
      "source": [
        "path = []                                                    #Is a vector of 35000 components. It contains the shortest path between node 1 and 20 for each partition\n",
        "for i in range(num_community):\n",
        "    try:\n",
        "        path.append([nx.shortest_path(GG.subgraph(partition[i]), source=i*20, target=(i+1)*20-1)[1]-i*20])\n",
        "    except:\n",
        "        path.append([0])"
      ],
      "execution_count": null,
      "outputs": []
    },
    {
      "cell_type": "markdown",
      "metadata": {
        "id": "fv3N2IUyv3w9"
      },
      "source": [
        "## Compiling labels\n",
        "\n",
        "Now it is necessary to associate the right output to each subgraph. \n",
        "\n",
        "The target is to obtain a network able to recognize the shortest path between 2 nodes. The problem lies in the fact that the output of the netwotk is normalized and has a defined size. \n",
        "The easier way to resolve this problem is using a network able to recognize the first node of the shortest path sequence and use this network iteratively until the output node correspond to the required destination.\n",
        "\n",
        "In this way the output has a precise dimension, a vector of 19 components (one for each node), and the following node is indicated with one-hot encoding. "
      ]
    },
    {
      "cell_type": "code",
      "metadata": {
        "id": "vf6KRoOEyAnG"
      },
      "source": [
        "#The labels are divided for each dataset (training, validation and testing)\n",
        "\n",
        "Train_path = path[:int(num_community*0.6)]\n",
        "Validation_path = path[int(num_community*0.6):int(num_community*0.8)]\n",
        "Test_path = path[int(num_community*0.8):]"
      ],
      "execution_count": null,
      "outputs": []
    },
    {
      "cell_type": "code",
      "metadata": {
        "id": "i8DupvQ2ydSL"
      },
      "source": [
        "#One-hot encoding of path length\n",
        "\n",
        "Label_Train = np.zeros((int(num_community*0.6),19))\n",
        "Label_Test = np.zeros((int(num_community*0.2),19))\n",
        "Label_Val = np.zeros((int(num_community*0.2),19))\n",
        "\n",
        "\n",
        "for j in range(0,len(Train_path)):\n",
        "    i=Train_path[j][0]\n",
        "    Label_Train[j][i-1] = 1\n",
        "\n",
        "for j in range(0,len(Validation_path)):\n",
        "    i=Validation_path[j][0]\n",
        "    Label_Val[j][i-1] = 1\n",
        "\n",
        "for j in range(0,len(Test_path)):\n",
        "    i=Test_path[j][0]\n",
        "    Label_Test[j][i-1] = 1\n",
        "    \n",
        "label_tv = np.concatenate((Label_Train, Label_Val)) \n",
        "labels = np.concatenate((label_tv, Label_Test)) "
      ],
      "execution_count": null,
      "outputs": []
    },
    {
      "cell_type": "markdown",
      "metadata": {
        "id": "bZgqB6bix_6i"
      },
      "source": [
        "## Unlabeling\n",
        "\n",
        "Following the intended behavior of the Kipf model, it will be trained on both labeled and unlabeled examples (i.e. in the training phase the validation and test datasets will be unlabeled) and later will be evaluated the predictions of the trained model on previously unlabeled examples. \n",
        "\n",
        "In this setting, the model always performs a forward pass on the full dataset and it is required a mask that affects which labels are available to the model during the different phases. All other nodes are treated as **unlabeled** nodes."
      ]
    },
    {
      "cell_type": "code",
      "metadata": {
        "id": "WDnRk59I0qvW"
      },
      "source": [
        "def sample_mask(idx, l):                                    #Create a bolean array for every dataset (train, val, test) to use as a mask filter for the labels\n",
        "    mask = np.zeros(l)\n",
        "    mask[idx] = 1\n",
        "    return np.array(mask, dtype=np.bool)\n",
        "\n",
        "\n",
        "train_size = int(num_community*0.6)                         #Different sizes of the different datasets\n",
        "val_size = int(num_community*0.2)\n",
        "test_size = int(num_community*0.2)\n",
        "\n",
        "\n",
        "idx_train = range(train_size)                               #Vectors containing the indexes of the labeled subgraphs\n",
        "idx_val = range(train_size, train_size+val_size)\n",
        "idx_test = range(train_size+val_size, train_size+val_size+test_size)\n",
        "\n",
        "\n",
        "train_mask = sample_mask(idx_train, labels.shape[0])        #Masks that are true where indicated by the indexes vectors, false otherwise\n",
        "val_mask = sample_mask(idx_val, labels.shape[0])\n",
        "test_mask = sample_mask(idx_test, labels.shape[0])\n",
        "\n",
        "\n",
        "y_train = np.zeros(labels.shape)                            #The datasets are all the same size\n",
        "y_val = np.zeros(labels.shape)\n",
        "y_test = np.zeros(labels.shape)\n",
        "y_train[train_mask, :] = labels[train_mask, :]              #But unlabeled where indicated by the mask\n",
        "y_val[val_mask, :] = labels[val_mask, :]\n",
        "y_test[test_mask, :] = labels[test_mask, :]"
      ],
      "execution_count": null,
      "outputs": []
    },
    {
      "cell_type": "markdown",
      "metadata": {
        "id": "YuWNhW4K11CJ"
      },
      "source": [
        "## Model initialization\n",
        "\n",
        "Now is time to define the morphology and the dictionary for the *Graph Convolutional Neural Network* that will be deployed for this application.\n",
        "\n",
        "The structure is exactly the same introduced by Kipf in 2017 but empirically it has been determined the internal structure with 2 hidden layers of 1024 components."
      ]
    },
    {
      "cell_type": "code",
      "metadata": {
        "id": "2RaVxmce1yaT"
      },
      "source": [
        "adj = adj_sparse\n",
        "features = features_sparse   \n",
        "y_train = y_train \n",
        "y_val = y_val\n",
        "train_mask = train_mask\n",
        "val_mask = val_mask"
      ],
      "execution_count": null,
      "outputs": []
    },
    {
      "cell_type": "code",
      "metadata": {
        "id": "DRdnzDYT2gdP"
      },
      "source": [
        "#Slightly modified version of Kipf 2017 Model\n",
        "\n",
        "class GCN(Model):\n",
        "    def __init__(self, placeholders, input_dim, **kwargs):\n",
        "        super(GCN, self).__init__(**kwargs)\n",
        "\n",
        "        self.inputs = placeholders['features']\n",
        "        self.input_dim = input_dim\n",
        "        self.output_dim = placeholders['labels'].get_shape().as_list()[1]\n",
        "        self.placeholders = placeholders\n",
        "\n",
        "        self.optimizer = tf.train.AdamOptimizer(learning_rate=FLAGS.learning_rate)\n",
        "\n",
        "        self.build()\n",
        "\n",
        "    def _loss(self):\n",
        "        # Weight decay loss\n",
        "        for var in self.layers[0].vars.values():\n",
        "            self.loss += FLAGS.weight_decay * tf.nn.l2_loss(var)\n",
        "\n",
        "        # Cross entropy error\n",
        "        self.loss += masked_softmax_cross_entropy(self.outputs, self.placeholders['labels'],\n",
        "                                                  self.placeholders['labels_mask'])\n",
        "\n",
        "    def _accuracy(self):\n",
        "        self.accuracy = masked_accuracy(self.outputs, self.placeholders['labels'],\n",
        "                                        self.placeholders['labels_mask'])\n",
        "\n",
        "    def _build(self):\n",
        "\n",
        "        self.layers.append(GraphConvolution(input_dim=self.input_dim,\n",
        "                                            output_dim=FLAGS.hidden1,\n",
        "                                            placeholders=self.placeholders,\n",
        "                                            act=tf.nn.relu,\n",
        "                                            dropout=True,\n",
        "                                            sparse_inputs=True,\n",
        "                                            logging=self.logging))\n",
        "\n",
        "        self.layers.append(GraphConvolution(input_dim=FLAGS.hidden1,\n",
        "                                            output_dim=FLAGS.hidden2,\n",
        "                                            placeholders=self.placeholders,\n",
        "                                            act=tf.nn.relu,                      \n",
        "                                            dropout=True,\n",
        "                                            logging=self.logging))\n",
        "        \n",
        "        self.layers.append(GraphConvolution(input_dim=FLAGS.hidden2,\n",
        "                                            output_dim=self.output_dim,\n",
        "                                            placeholders=self.placeholders,\n",
        "                                            act=lambda x: x,\n",
        "                                            dropout=True,\n",
        "                                            logging=self.logging))\n",
        "\n",
        "    def predict(self):\n",
        "        return tf.nn.softmax(self.outputs)"
      ],
      "execution_count": null,
      "outputs": []
    },
    {
      "cell_type": "markdown",
      "metadata": {
        "id": "aZtpAF-j3Yvb"
      },
      "source": [
        "## Data preprocessing\n",
        "\n",
        "As mentioned in the theoretical section of the paper associated to this notebook, the data need to be preprocessed before give it to the network following the normalization: \n",
        "\n",
        "<center>$\\widetilde D^{-\\frac{1}{2}} \\widetilde A \\widetilde D^{-\\frac{1}{2}}$</center>"
      ]
    },
    {
      "cell_type": "code",
      "metadata": {
        "id": "4DYkjsWF4LOs"
      },
      "source": [
        "def sparse_to_tuple(sparse_mx):\n",
        "    def to_tuple(mx):\n",
        "        if not sp.sparse.isspmatrix_coo(mx):\n",
        "            mx = mx.tocoo()\n",
        "        coords = np.vstack((mx.row, mx.col)).transpose()\n",
        "        values = mx.data\n",
        "        shape = mx.shape\n",
        "        return coords, values, shape\n",
        "\n",
        "    if isinstance(sparse_mx, list):\n",
        "        for i in range(len(sparse_mx)):\n",
        "            sparse_mx[i] = to_tuple(sparse_mx[i])\n",
        "    else:\n",
        "        sparse_mx = to_tuple(sparse_mx)\n",
        "\n",
        "    return sparse_mx\n",
        "\n",
        "\n",
        "    \n",
        "#The power of a diagonal matrix is the power of each component so D is generated from A summing all the rows, in this way every single component of the vector can be simply elevated\n",
        "\n",
        "def normalize_adj(adj): \n",
        "    adj = sp.sparse.coo_matrix(adj)\n",
        "    rowsum = np.array(adj.sum(1))                           #Sum every column cell for each row, in this direction ->. So the result is a vector with as many cell as the number of raws (35000 in this case)\n",
        "    d_inv_sqrt = np.power(rowsum, -0.5).flatten()\n",
        "    d_inv_sqrt[np.isinf(d_inv_sqrt)] = 0.\n",
        "    d_mat_inv_sqrt = sp.sparse.diags(d_inv_sqrt, 0)\n",
        "    return adj.dot(d_mat_inv_sqrt).transpose().dot(d_mat_inv_sqrt).tocoo()\n",
        "\n",
        "\n",
        "\n",
        "#Simply following the formula A' is the sum of A+I\n",
        "\n",
        "def preprocess_adj(adj):\n",
        "    adj_normalized = normalize_adj(adj + sp.sparse.eye(adj.shape[0]))\n",
        "    return sparse_to_tuple(adj_normalized)\n",
        "\n",
        "\n",
        "\n",
        "num_supports = 1\n",
        "model_func = GCN\n",
        "support = [preprocess_adj(adj)]"
      ],
      "execution_count": null,
      "outputs": []
    },
    {
      "cell_type": "code",
      "metadata": {
        "id": "3a9Dx5rW4mh3"
      },
      "source": [
        "def preprocess_features(features):\n",
        "    rowsum = np.array(features.sum(1))                      #Sum of the columns\n",
        "    r_inv1 = np.power(rowsum, -0.5).flatten()\n",
        "    r_inv2 = np.power(rowsum, -0.5).flatten()\n",
        "    r_inv = np.multiply(r_inv1, r_inv2)\n",
        "    r_inv[np.isinf(r_inv)] = 0.\n",
        "    r_mat_inv = sp.sparse.diags(r_inv, 0)\n",
        "    features = r_mat_inv.dot(features)\n",
        "    return sparse_to_tuple(features)\n",
        "\n",
        "\n",
        "features = preprocess_features(features)"
      ],
      "execution_count": null,
      "outputs": []
    },
    {
      "cell_type": "code",
      "metadata": {
        "colab": {
          "base_uri": "https://localhost:8080/"
        },
        "id": "kDFU9UwU5ABt",
        "outputId": "e504adbc-1d0b-44d1-e94e-a9fa02c6ef3f"
      },
      "source": [
        "features                                                    #In the first array are contained the adjacency matrices of every subgraph. \n",
        "                                                            #To every subgraph edge is indicated a weight that rappresents the total number of edges in the i-th subgraph."
      ],
      "execution_count": null,
      "outputs": [
        {
          "output_type": "execute_result",
          "data": {
            "text/plain": [
              "(array([[    0,   396],\n",
              "        [    0,   390],\n",
              "        [    0,   386],\n",
              "        ...,\n",
              "        [34999,     9],\n",
              "        [34999,     5],\n",
              "        [34999,     3]], dtype=int32),\n",
              " array([0.00892857, 0.00892857, 0.00892857, ..., 0.00892857, 0.00892857,\n",
              "        0.00892857]),\n",
              " (35000, 400))"
            ]
          },
          "metadata": {
            "tags": []
          },
          "execution_count": 16
        }
      ]
    },
    {
      "cell_type": "markdown",
      "metadata": {
        "id": "DwBseg7aANqD"
      },
      "source": [
        "## Training pipeline\n",
        "\n",
        "The title is pretty comprehensive. According to the Kipf design in this phase all the required variables are initialized and the model is trained using the datasets built and processed before."
      ]
    },
    {
      "cell_type": "code",
      "metadata": {
        "colab": {
          "base_uri": "https://localhost:8080/"
        },
        "id": "7KiyMbh_5R3K",
        "outputId": "17943699-5cde-4430-ca15-7d1b0b84f853"
      },
      "source": [
        "#Set random seed\n",
        "\n",
        "seed = 123\n",
        "np.random.seed(seed)\n",
        "tf.set_random_seed(seed)\n",
        "\n",
        "\n",
        "\n",
        "#Settings\n",
        "\n",
        "flags = tf.app.flags\n",
        "FLAGS = flags.FLAGS\n",
        "\n",
        "\n",
        "\n",
        "#Definition of network and training parameters\n",
        "\n",
        "flags.DEFINE_string('model', 'gcn', 'Model string.')  \n",
        "flags.DEFINE_float('learning_rate', 1e-3, 'Initial learning rate.')\n",
        "\n",
        "flags.DEFINE_integer('epochs', 1000, 'Number of epochs to train.')\n",
        "flags.DEFINE_integer('hidden1', 1024, 'Number of units in hidden layer 1.')\n",
        "flags.DEFINE_integer('hidden2', 1024, 'Number of units in hidden layer 2.')\n",
        "flags.DEFINE_float('dropout', 0.5, 'Dropout rate (1 - keep probability).')\n",
        "\n",
        "flags.DEFINE_float('weight_decay', 5e-4, 'Weight for L2 loss on embedding matrix.')\n",
        "\n",
        "flags.DEFINE_integer('early_stopping', 300, 'Tolerance for early stopping (# of epochs).')\n",
        "flags.DEFINE_integer('max_degree', 3, 'Maximum Chebyshev polynomial degree.')"
      ],
      "execution_count": null,
      "outputs": [
        {
          "output_type": "execute_result",
          "data": {
            "text/plain": [
              "<absl.flags._flagvalues.FlagHolder at 0x7fa9bba7c650>"
            ]
          },
          "metadata": {
            "tags": []
          },
          "execution_count": 17
        }
      ]
    },
    {
      "cell_type": "code",
      "metadata": {
        "id": "SsUH1-C75h_3"
      },
      "source": [
        "def masked_softmax_cross_entropy(preds, labels, mask):                       #Softmax cross-entropy loss with masking\n",
        "    loss = tf.nn.softmax_cross_entropy_with_logits(logits=preds, labels=labels)\n",
        "    mask = tf.cast(mask, dtype=tf.float32)\n",
        "    mask /= tf.reduce_mean(mask)\n",
        "    loss *= mask\n",
        "    return tf.reduce_mean(loss)\n",
        "\n",
        "def masked_mean_square_error(preds,labels,mask):                             #L-2 loss\n",
        "    loss = tf.nn.l2_loss(preds - labels)\n",
        "    mask = tf.cast(mask, dtype=tf.float32)\n",
        "    mask /= tf.reduce_mean(mask)\n",
        "    loss *= mask\n",
        "    return tf.reduce_mean(loss)\n",
        "\n",
        "def masked_accuracy(preds, labels, mask):                                    #Accuracy with masking\n",
        "    correct_prediction = tf.equal(tf.argmax(preds, 1), tf.argmax(labels, 1))\n",
        "    accuracy_all = tf.cast(correct_prediction, tf.float32)\n",
        "    mask = tf.cast(mask, dtype=tf.float32)\n",
        "    mask /= tf.reduce_mean(mask)\n",
        "    accuracy_all *= mask\n",
        "    return tf.reduce_mean(accuracy_all)"
      ],
      "execution_count": null,
      "outputs": []
    },
    {
      "cell_type": "code",
      "metadata": {
        "colab": {
          "base_uri": "https://localhost:8080/"
        },
        "id": "vaZv_9AP5aEe",
        "outputId": "31b3cbad-64fa-44b9-ea02-a95dc5e5d3f9"
      },
      "source": [
        "#Extraction of the network configuration parameters\n",
        "\n",
        "remaining_args = FLAGS([sys.argv[0]] + [flag for flag in sys.argv if flag.startswith(\"--\")])\n",
        "assert(remaining_args == [sys.argv[0]])\n",
        "if (FLAGS.model == 'gcn'):\n",
        "    support = [preprocess_adj(adj)]\n",
        "    num_supports = 1\n",
        "    model_func = GCN\n",
        "elif FLAGS.model == 'gcn_cheby':\n",
        "    support = chebyshev_polynomials(adj, FLAGS.max_degree)\n",
        "    num_supports = 1 + FLAGS.max_degree\n",
        "    model_func = GCN\n",
        "elif FLAGS.model == 'dense':\n",
        "    support = [preprocess_adj(adj)] \n",
        "    num_supports = 1\n",
        "    model_func = MLP\n",
        "else:\n",
        "    raise ValueError('Invalid argument for model: ' + str(FLAGS.model))\n",
        "\n",
        "\n",
        "\n",
        "#Definition of placeholders as provided by Kipf\n",
        "\n",
        "tf.compat.v1.disable_eager_execution()\n",
        "placeholders = {\n",
        "    'support': [tf.sparse_placeholder(tf.float32) for _ in range(num_supports)],\n",
        "    'features': tf.sparse_placeholder(tf.float32, shape=tf.constant(features[2], dtype=tf.int64)),\n",
        "    'labels': tf.placeholder(tf.float32, shape=(None, y_train.shape[1])),\n",
        "    'labels_mask': tf.placeholder(tf.int32),\n",
        "    'dropout': tf.placeholder_with_default(0., shape=()),\n",
        "    'num_features_nonzero': tf.placeholder(tf.int32)  # helper variable for sparse dropout\n",
        "}\n",
        "\n",
        "\n",
        "\n",
        "#Declaration of the model\n",
        "\n",
        "model = model_func(placeholders, input_dim=features[2][1], logging=True)\n",
        "\n",
        "\n",
        "\n",
        "#Session initialization\n",
        "\n",
        "sess = tf.Session()\n",
        "\n",
        "\n",
        "\n",
        "#Definition of the model evaluation function\n",
        "\n",
        "def evaluate(features, support, labels, mask, placeholders):\n",
        "    t_test = time.time()\n",
        "    feed_dict_val = construct_feed_dict(features, support, labels, mask, placeholders)\n",
        "    outs_val = sess.run([model.loss, model.accuracy], feed_dict=feed_dict_val)\n",
        "    return outs_val[0], outs_val[1], (time.time() - t_test)"
      ],
      "execution_count": null,
      "outputs": [
        {
          "output_type": "stream",
          "text": [
            "WARNING:tensorflow:From /usr/local/lib/python3.7/dist-packages/tensorflow/python/util/dispatch.py:201: calling dropout (from tensorflow.python.ops.nn_ops) with keep_prob is deprecated and will be removed in a future version.\n",
            "Instructions for updating:\n",
            "Please use `rate` instead of `keep_prob`. Rate should be set to `rate = 1 - keep_prob`.\n",
            "WARNING:tensorflow:From /usr/local/lib/python3.7/dist-packages/tensorflow/python/util/dispatch.py:201: softmax_cross_entropy_with_logits (from tensorflow.python.ops.nn_ops) is deprecated and will be removed in a future version.\n",
            "Instructions for updating:\n",
            "\n",
            "Future major versions of TensorFlow will allow gradients to flow\n",
            "into the labels input on backprop by default.\n",
            "\n",
            "See `tf.nn.softmax_cross_entropy_with_logits_v2`.\n",
            "\n"
          ],
          "name": "stdout"
        }
      ]
    },
    {
      "cell_type": "code",
      "metadata": {
        "id": "YVKlN18N5sHM"
      },
      "source": [
        "#Same as Kipf 2017, function to compile the training dictionary\n",
        "\n",
        "def construct_feed_dict(features, support, labels, labels_mask, placeholders):\n",
        "    feed_dict = dict()\n",
        "    feed_dict.update({placeholders['labels']: labels})\n",
        "    feed_dict.update({placeholders['labels_mask']: labels_mask})\n",
        "    feed_dict.update({placeholders['features']: features})\n",
        "    feed_dict.update({placeholders['support'][i]: support[i] for i in range(len(support))})\n",
        "    feed_dict.update({placeholders['num_features_nonzero']: features[1].shape})\n",
        "    return feed_dict"
      ],
      "execution_count": null,
      "outputs": []
    },
    {
      "cell_type": "code",
      "metadata": {
        "colab": {
          "base_uri": "https://localhost:8080/"
        },
        "id": "vAXv7_as5ymi",
        "outputId": "ca51344f-9924-470f-d38f-4c420aac2be8"
      },
      "source": [
        "#Initialization of the session\n",
        "\n",
        "sess.run(tf.global_variables_initializer())\n",
        "train_loss = []\n",
        "validation_loss = []\n",
        "train_accuracy = []\n",
        "validation_accuracy = []\n",
        "\n",
        "\n",
        "#Training\n",
        "\n",
        "for epoch in range(FLAGS.epochs):\n",
        "\n",
        "    t = time.time()                                                                         #Compilation of the dictionary\n",
        "    feed_dict = construct_feed_dict(features, support, y_train, train_mask, placeholders)\n",
        "    feed_dict.update({placeholders['dropout']: FLAGS.dropout})\n",
        "\n",
        "    outs = sess.run([model.opt_op, model.loss, model.accuracy], feed_dict=feed_dict)        #Training steps\n",
        "    \n",
        "    cost, acc, duration = evaluate(features, support, y_val, val_mask, placeholders)        #Validation steps\n",
        "    validation_loss.append(cost)\n",
        "    validation_accuracy.append(acc)\n",
        "    train_loss.append(outs[1])\n",
        "    train_accuracy.append(outs[2])\n",
        "\n",
        "    print(\"Epoch:\", '%04d' % (epoch + 1), \"train_loss=\", \"{:.5f}\".format(outs[1]),\n",
        "          \"train_acc=\", \"{:.5f}\".format(outs[2]), \"val_loss=\", \"{:.5f}\".format(cost),\n",
        "          \"val_acc=\", \"{:.5f}\".format(acc), \"time=\", \"{:.5f}\".format(time.time() - t))\n",
        "\n",
        "    if epoch > FLAGS.early_stopping and validation_loss[-1] > np.mean(validation_loss[-(FLAGS.early_stopping+1):-1]):\n",
        "        print(\"Early stopping...\")\n",
        "        break\n",
        "\n",
        "print(\"Training completed!\")"
      ],
      "execution_count": null,
      "outputs": [
        {
          "output_type": "stream",
          "text": [
            "Epoch: 0001 train_loss= 3.08878 train_acc= 0.04348 val_loss= 3.07392 val_acc= 0.30600 time= 6.08079\n",
            "Epoch: 0002 train_loss= 3.07144 train_acc= 0.29824 val_loss= 3.05899 val_acc= 0.30600 time= 5.71811\n",
            "Epoch: 0003 train_loss= 3.05377 train_acc= 0.29824 val_loss= 3.04165 val_acc= 0.30600 time= 5.64456\n",
            "Epoch: 0004 train_loss= 3.03398 train_acc= 0.29824 val_loss= 3.01995 val_acc= 0.30600 time= 5.68233\n",
            "Epoch: 0005 train_loss= 3.01027 train_acc= 0.29824 val_loss= 2.99190 val_acc= 0.30600 time= 5.63667\n",
            "Epoch: 0006 train_loss= 2.98128 train_acc= 0.29824 val_loss= 2.95561 val_acc= 0.30600 time= 5.69901\n",
            "Epoch: 0007 train_loss= 2.94450 train_acc= 0.29824 val_loss= 2.90982 val_acc= 0.30600 time= 5.67964\n",
            "Epoch: 0008 train_loss= 2.89970 train_acc= 0.29824 val_loss= 2.85468 val_acc= 0.30600 time= 5.65176\n",
            "Epoch: 0009 train_loss= 2.84699 train_acc= 0.29824 val_loss= 2.79320 val_acc= 0.30600 time= 5.70250\n",
            "Epoch: 0010 train_loss= 2.78958 train_acc= 0.29824 val_loss= 2.73334 val_acc= 0.30600 time= 5.68180\n",
            "Epoch: 0011 train_loss= 2.73737 train_acc= 0.29824 val_loss= 2.69112 val_acc= 0.30600 time= 5.69822\n",
            "Epoch: 0012 train_loss= 2.70222 train_acc= 0.29824 val_loss= 2.68797 val_acc= 0.30600 time= 5.66505\n",
            "Epoch: 0013 train_loss= 2.70968 train_acc= 0.29824 val_loss= 2.71568 val_acc= 0.30600 time= 5.65863\n",
            "Epoch: 0014 train_loss= 2.74510 train_acc= 0.29824 val_loss= 2.72621 val_acc= 0.30600 time= 5.62701\n",
            "Epoch: 0015 train_loss= 2.75410 train_acc= 0.29824 val_loss= 2.71034 val_acc= 0.30600 time= 5.65771\n",
            "Epoch: 0016 train_loss= 2.73692 train_acc= 0.29824 val_loss= 2.68502 val_acc= 0.30600 time= 5.65159\n",
            "Epoch: 0017 train_loss= 2.71021 train_acc= 0.29824 val_loss= 2.66536 val_acc= 0.30600 time= 5.65616\n",
            "Epoch: 0018 train_loss= 2.68520 train_acc= 0.29824 val_loss= 2.65727 val_acc= 0.30600 time= 5.67832\n",
            "Epoch: 0019 train_loss= 2.67359 train_acc= 0.29824 val_loss= 2.65886 val_acc= 0.30600 time= 5.63524\n",
            "Epoch: 0020 train_loss= 2.67080 train_acc= 0.29824 val_loss= 2.66504 val_acc= 0.30600 time= 5.63739\n",
            "Epoch: 0021 train_loss= 2.67516 train_acc= 0.29824 val_loss= 2.67116 val_acc= 0.30600 time= 5.59833\n",
            "Epoch: 0022 train_loss= 2.67915 train_acc= 0.29824 val_loss= 2.67433 val_acc= 0.30600 time= 5.63038\n",
            "Epoch: 0023 train_loss= 2.68072 train_acc= 0.29824 val_loss= 2.67334 val_acc= 0.30600 time= 5.60112\n",
            "Epoch: 0024 train_loss= 2.67955 train_acc= 0.29824 val_loss= 2.66809 val_acc= 0.30600 time= 5.61641\n",
            "Epoch: 0025 train_loss= 2.67582 train_acc= 0.29824 val_loss= 2.65936 val_acc= 0.30600 time= 5.65462\n",
            "Epoch: 0026 train_loss= 2.66975 train_acc= 0.29824 val_loss= 2.64857 val_acc= 0.30600 time= 5.62251\n",
            "Epoch: 0027 train_loss= 2.66011 train_acc= 0.29824 val_loss= 2.63746 val_acc= 0.30600 time= 5.59932\n",
            "Epoch: 0028 train_loss= 2.65157 train_acc= 0.29824 val_loss= 2.62791 val_acc= 0.30600 time= 5.61881\n",
            "Epoch: 0029 train_loss= 2.64620 train_acc= 0.29824 val_loss= 2.62135 val_acc= 0.30600 time= 5.64295\n",
            "Epoch: 0030 train_loss= 2.64066 train_acc= 0.29824 val_loss= 2.61800 val_acc= 0.30600 time= 5.58293\n",
            "Epoch: 0031 train_loss= 2.64039 train_acc= 0.29824 val_loss= 2.61656 val_acc= 0.30600 time= 5.61197\n",
            "Epoch: 0032 train_loss= 2.63996 train_acc= 0.29824 val_loss= 2.61488 val_acc= 0.30600 time= 5.57754\n",
            "Epoch: 0033 train_loss= 2.63950 train_acc= 0.29824 val_loss= 2.61153 val_acc= 0.30600 time= 5.59469\n",
            "Epoch: 0034 train_loss= 2.63676 train_acc= 0.29824 val_loss= 2.60671 val_acc= 0.30600 time= 5.63287\n",
            "Epoch: 0035 train_loss= 2.62863 train_acc= 0.29824 val_loss= 2.60185 val_acc= 0.30600 time= 5.62471\n",
            "Epoch: 0036 train_loss= 2.62428 train_acc= 0.29824 val_loss= 2.59827 val_acc= 0.30600 time= 5.62770\n",
            "Epoch: 0037 train_loss= 2.61958 train_acc= 0.29824 val_loss= 2.59637 val_acc= 0.30600 time= 5.63455\n",
            "Epoch: 0038 train_loss= 2.61585 train_acc= 0.29824 val_loss= 2.59554 val_acc= 0.30600 time= 5.59229\n",
            "Epoch: 0039 train_loss= 2.61290 train_acc= 0.29824 val_loss= 2.59469 val_acc= 0.30600 time= 5.60140\n",
            "Epoch: 0040 train_loss= 2.61141 train_acc= 0.29824 val_loss= 2.59275 val_acc= 0.30600 time= 5.57963\n",
            "Epoch: 0041 train_loss= 2.60578 train_acc= 0.29824 val_loss= 2.58912 val_acc= 0.30600 time= 5.59767\n",
            "Epoch: 0042 train_loss= 2.60374 train_acc= 0.29824 val_loss= 2.58386 val_acc= 0.30600 time= 5.64411\n",
            "Epoch: 0043 train_loss= 2.59990 train_acc= 0.29824 val_loss= 2.57761 val_acc= 0.30600 time= 5.59649\n",
            "Epoch: 0044 train_loss= 2.59596 train_acc= 0.29824 val_loss= 2.57135 val_acc= 0.30600 time= 5.65238\n",
            "Epoch: 0045 train_loss= 2.59010 train_acc= 0.29824 val_loss= 2.56588 val_acc= 0.30600 time= 5.64330\n",
            "Epoch: 0046 train_loss= 2.58607 train_acc= 0.29824 val_loss= 2.56146 val_acc= 0.30600 time= 5.59246\n",
            "Epoch: 0047 train_loss= 2.58568 train_acc= 0.29824 val_loss= 2.55764 val_acc= 0.30600 time= 5.63448\n",
            "Epoch: 0048 train_loss= 2.58140 train_acc= 0.29824 val_loss= 2.55368 val_acc= 0.30600 time= 5.57335\n",
            "Epoch: 0049 train_loss= 2.57731 train_acc= 0.29824 val_loss= 2.54932 val_acc= 0.30600 time= 5.60882\n",
            "Epoch: 0050 train_loss= 2.57305 train_acc= 0.29824 val_loss= 2.54497 val_acc= 0.30600 time= 5.65591\n",
            "Epoch: 0051 train_loss= 2.56900 train_acc= 0.29824 val_loss= 2.54119 val_acc= 0.30600 time= 5.56714\n",
            "Epoch: 0052 train_loss= 2.56366 train_acc= 0.29824 val_loss= 2.53806 val_acc= 0.30600 time= 5.63004\n",
            "Epoch: 0053 train_loss= 2.55896 train_acc= 0.29824 val_loss= 2.53502 val_acc= 0.30600 time= 5.57665\n",
            "Epoch: 0054 train_loss= 2.55511 train_acc= 0.29824 val_loss= 2.53133 val_acc= 0.30600 time= 5.58358\n",
            "Epoch: 0055 train_loss= 2.55228 train_acc= 0.29824 val_loss= 2.52649 val_acc= 0.30600 time= 5.58307\n",
            "Epoch: 0056 train_loss= 2.54845 train_acc= 0.29824 val_loss= 2.52061 val_acc= 0.30600 time= 5.58977\n",
            "Epoch: 0057 train_loss= 2.54344 train_acc= 0.29824 val_loss= 2.51436 val_acc= 0.30600 time= 5.58906\n",
            "Epoch: 0058 train_loss= 2.53890 train_acc= 0.29824 val_loss= 2.50839 val_acc= 0.30600 time= 5.58626\n",
            "Epoch: 0059 train_loss= 2.53276 train_acc= 0.29824 val_loss= 2.50286 val_acc= 0.30600 time= 5.62203\n",
            "Epoch: 0060 train_loss= 2.53170 train_acc= 0.29824 val_loss= 2.49751 val_acc= 0.30600 time= 5.80592\n",
            "Epoch: 0061 train_loss= 2.52476 train_acc= 0.29824 val_loss= 2.49207 val_acc= 0.30600 time= 5.65485\n",
            "Epoch: 0062 train_loss= 2.52204 train_acc= 0.29824 val_loss= 2.48677 val_acc= 0.30600 time= 5.63630\n",
            "Epoch: 0063 train_loss= 2.51408 train_acc= 0.29824 val_loss= 2.48186 val_acc= 0.30600 time= 5.66320\n",
            "Epoch: 0064 train_loss= 2.51084 train_acc= 0.29824 val_loss= 2.47712 val_acc= 0.30600 time= 5.65258\n",
            "Epoch: 0065 train_loss= 2.50766 train_acc= 0.29824 val_loss= 2.47183 val_acc= 0.30600 time= 5.63502\n",
            "Epoch: 0066 train_loss= 2.50081 train_acc= 0.29824 val_loss= 2.46546 val_acc= 0.30600 time= 5.63309\n",
            "Epoch: 0067 train_loss= 2.49710 train_acc= 0.29824 val_loss= 2.45823 val_acc= 0.30600 time= 5.63787\n",
            "Epoch: 0068 train_loss= 2.49411 train_acc= 0.29824 val_loss= 2.45089 val_acc= 0.30600 time= 5.68230\n",
            "Epoch: 0069 train_loss= 2.48447 train_acc= 0.29824 val_loss= 2.44394 val_acc= 0.30600 time= 5.60863\n",
            "Epoch: 0070 train_loss= 2.48218 train_acc= 0.29824 val_loss= 2.43725 val_acc= 0.30600 time= 5.62678\n",
            "Epoch: 0071 train_loss= 2.47639 train_acc= 0.29824 val_loss= 2.43084 val_acc= 0.30600 time= 5.73445\n",
            "Epoch: 0072 train_loss= 2.47201 train_acc= 0.29824 val_loss= 2.42496 val_acc= 0.30600 time= 5.70599\n",
            "Epoch: 0073 train_loss= 2.46881 train_acc= 0.29824 val_loss= 2.41904 val_acc= 0.30600 time= 5.68078\n",
            "Epoch: 0074 train_loss= 2.46175 train_acc= 0.29824 val_loss= 2.41217 val_acc= 0.30600 time= 5.70809\n",
            "Epoch: 0075 train_loss= 2.45342 train_acc= 0.29824 val_loss= 2.40422 val_acc= 0.30600 time= 5.69710\n",
            "Epoch: 0076 train_loss= 2.44830 train_acc= 0.29824 val_loss= 2.39595 val_acc= 0.30600 time= 5.65722\n",
            "Epoch: 0077 train_loss= 2.44403 train_acc= 0.29824 val_loss= 2.38809 val_acc= 0.30600 time= 5.73039\n",
            "Epoch: 0078 train_loss= 2.43838 train_acc= 0.29824 val_loss= 2.38066 val_acc= 0.30600 time= 5.75791\n",
            "Epoch: 0079 train_loss= 2.43499 train_acc= 0.29824 val_loss= 2.37357 val_acc= 0.30600 time= 5.77049\n",
            "Epoch: 0080 train_loss= 2.42898 train_acc= 0.29824 val_loss= 2.36667 val_acc= 0.30600 time= 5.67923\n",
            "Epoch: 0081 train_loss= 2.42414 train_acc= 0.29824 val_loss= 2.35935 val_acc= 0.30600 time= 5.66338\n",
            "Epoch: 0082 train_loss= 2.41651 train_acc= 0.29824 val_loss= 2.35119 val_acc= 0.30600 time= 5.75560\n",
            "Epoch: 0083 train_loss= 2.41078 train_acc= 0.29824 val_loss= 2.34250 val_acc= 0.30600 time= 5.71444\n",
            "Epoch: 0084 train_loss= 2.40566 train_acc= 0.29824 val_loss= 2.33408 val_acc= 0.30600 time= 5.75851\n",
            "Epoch: 0085 train_loss= 2.39857 train_acc= 0.29824 val_loss= 2.32637 val_acc= 0.30600 time= 5.70146\n",
            "Epoch: 0086 train_loss= 2.39020 train_acc= 0.29824 val_loss= 2.31909 val_acc= 0.30600 time= 5.63728\n",
            "Epoch: 0087 train_loss= 2.39063 train_acc= 0.29824 val_loss= 2.31113 val_acc= 0.30600 time= 5.86798\n",
            "Epoch: 0088 train_loss= 2.38212 train_acc= 0.29824 val_loss= 2.30276 val_acc= 0.30600 time= 7.46811\n",
            "Epoch: 0089 train_loss= 2.37635 train_acc= 0.29829 val_loss= 2.29403 val_acc= 0.30600 time= 6.18635\n",
            "Epoch: 0090 train_loss= 2.37358 train_acc= 0.29824 val_loss= 2.28569 val_acc= 0.30600 time= 5.66987\n",
            "Epoch: 0091 train_loss= 2.36519 train_acc= 0.29824 val_loss= 2.27794 val_acc= 0.30600 time= 5.73717\n",
            "Epoch: 0092 train_loss= 2.35394 train_acc= 0.29838 val_loss= 2.27000 val_acc= 0.30600 time= 5.68189\n",
            "Epoch: 0093 train_loss= 2.35306 train_acc= 0.29838 val_loss= 2.26153 val_acc= 0.30600 time= 5.69034\n",
            "Epoch: 0094 train_loss= 2.34619 train_acc= 0.29867 val_loss= 2.25281 val_acc= 0.30600 time= 5.71970\n",
            "Epoch: 0095 train_loss= 2.34783 train_acc= 0.29914 val_loss= 2.24462 val_acc= 0.30600 time= 5.68128\n",
            "Epoch: 0096 train_loss= 2.34049 train_acc= 0.29957 val_loss= 2.23684 val_acc= 0.30600 time= 5.69209\n",
            "Epoch: 0097 train_loss= 2.33383 train_acc= 0.30033 val_loss= 2.22893 val_acc= 0.30629 time= 5.73775\n",
            "Epoch: 0098 train_loss= 2.32586 train_acc= 0.30200 val_loss= 2.22056 val_acc= 0.30757 time= 5.66511\n",
            "Epoch: 0099 train_loss= 2.32079 train_acc= 0.30324 val_loss= 2.21195 val_acc= 0.30857 time= 5.70004\n",
            "Epoch: 0100 train_loss= 2.31649 train_acc= 0.30529 val_loss= 2.20400 val_acc= 0.31300 time= 5.67160\n",
            "Epoch: 0101 train_loss= 2.31785 train_acc= 0.30700 val_loss= 2.19657 val_acc= 0.32043 time= 5.67167\n",
            "Epoch: 0102 train_loss= 2.30939 train_acc= 0.31229 val_loss= 2.18881 val_acc= 0.32943 time= 5.70976\n",
            "Epoch: 0103 train_loss= 2.30430 train_acc= 0.31762 val_loss= 2.18064 val_acc= 0.33443 time= 5.68765\n",
            "Epoch: 0104 train_loss= 2.30234 train_acc= 0.31852 val_loss= 2.17298 val_acc= 0.33957 time= 5.66948\n",
            "Epoch: 0105 train_loss= 2.29356 train_acc= 0.32148 val_loss= 2.16553 val_acc= 0.34886 time= 5.73148\n",
            "Epoch: 0106 train_loss= 2.28572 train_acc= 0.32371 val_loss= 2.15847 val_acc= 0.36100 time= 5.69024\n",
            "Epoch: 0107 train_loss= 2.27893 train_acc= 0.32867 val_loss= 2.15098 val_acc= 0.36614 time= 5.71572\n",
            "Epoch: 0108 train_loss= 2.27919 train_acc= 0.33119 val_loss= 2.14354 val_acc= 0.36414 time= 5.64487\n",
            "Epoch: 0109 train_loss= 2.27895 train_acc= 0.32800 val_loss= 2.13659 val_acc= 0.36600 time= 5.66652\n",
            "Epoch: 0110 train_loss= 2.26695 train_acc= 0.33500 val_loss= 2.12956 val_acc= 0.37814 time= 5.71877\n",
            "Epoch: 0111 train_loss= 2.26735 train_acc= 0.33386 val_loss= 2.12275 val_acc= 0.38729 time= 5.70598\n",
            "Epoch: 0112 train_loss= 2.26539 train_acc= 0.34024 val_loss= 2.11598 val_acc= 0.38286 time= 5.73825\n",
            "Epoch: 0113 train_loss= 2.26464 train_acc= 0.33624 val_loss= 2.10972 val_acc= 0.38257 time= 5.73767\n",
            "Epoch: 0114 train_loss= 2.25325 train_acc= 0.33933 val_loss= 2.10260 val_acc= 0.39314 time= 5.66612\n",
            "Epoch: 0115 train_loss= 2.25267 train_acc= 0.34062 val_loss= 2.09598 val_acc= 0.40143 time= 5.71471\n",
            "Epoch: 0116 train_loss= 2.24049 train_acc= 0.34481 val_loss= 2.08958 val_acc= 0.40157 time= 5.72895\n",
            "Epoch: 0117 train_loss= 2.23965 train_acc= 0.34667 val_loss= 2.08429 val_acc= 0.39571 time= 5.66929\n",
            "Epoch: 0118 train_loss= 2.23882 train_acc= 0.34657 val_loss= 2.07790 val_acc= 0.39886 time= 5.80355\n",
            "Epoch: 0119 train_loss= 2.23898 train_acc= 0.34790 val_loss= 2.07061 val_acc= 0.40986 time= 5.78828\n",
            "Epoch: 0120 train_loss= 2.24077 train_acc= 0.35238 val_loss= 2.06471 val_acc= 0.40929 time= 5.76539\n",
            "Epoch: 0121 train_loss= 2.22916 train_acc= 0.35452 val_loss= 2.06006 val_acc= 0.40529 time= 5.68283\n",
            "Epoch: 0122 train_loss= 2.21461 train_acc= 0.35557 val_loss= 2.05376 val_acc= 0.40971 time= 5.65674\n",
            "Epoch: 0123 train_loss= 2.22159 train_acc= 0.35586 val_loss= 2.04673 val_acc= 0.42100 time= 5.69174\n",
            "Epoch: 0124 train_loss= 2.21050 train_acc= 0.36181 val_loss= 2.04098 val_acc= 0.42529 time= 5.68243\n",
            "Epoch: 0125 train_loss= 2.20557 train_acc= 0.36710 val_loss= 2.03638 val_acc= 0.42200 time= 5.76372\n",
            "Epoch: 0126 train_loss= 2.20267 train_acc= 0.36714 val_loss= 2.03130 val_acc= 0.42414 time= 5.73582\n",
            "Epoch: 0127 train_loss= 2.20165 train_acc= 0.36552 val_loss= 2.02424 val_acc= 0.44000 time= 5.70417\n",
            "Epoch: 0128 train_loss= 2.20426 train_acc= 0.36667 val_loss= 2.01937 val_acc= 0.44043 time= 5.78065\n",
            "Epoch: 0129 train_loss= 2.19059 train_acc= 0.37248 val_loss= 2.01414 val_acc= 0.44386 time= 5.75135\n",
            "Epoch: 0130 train_loss= 2.19571 train_acc= 0.37033 val_loss= 2.00807 val_acc= 0.45286 time= 5.70562\n",
            "Epoch: 0131 train_loss= 2.18686 train_acc= 0.37471 val_loss= 2.00259 val_acc= 0.46043 time= 5.72164\n",
            "Epoch: 0132 train_loss= 2.17285 train_acc= 0.37962 val_loss= 1.99885 val_acc= 0.45329 time= 5.71690\n",
            "Epoch: 0133 train_loss= 2.17888 train_acc= 0.37871 val_loss= 1.99382 val_acc= 0.45871 time= 5.71220\n",
            "Epoch: 0134 train_loss= 2.17535 train_acc= 0.37790 val_loss= 1.98851 val_acc= 0.46586 time= 5.74003\n",
            "Epoch: 0135 train_loss= 2.18533 train_acc= 0.37862 val_loss= 1.98373 val_acc= 0.46886 time= 5.66159\n",
            "Epoch: 0136 train_loss= 2.17178 train_acc= 0.37990 val_loss= 1.97966 val_acc= 0.46943 time= 5.68009\n",
            "Epoch: 0137 train_loss= 2.16399 train_acc= 0.38295 val_loss= 1.97552 val_acc= 0.46914 time= 5.59108\n",
            "Epoch: 0138 train_loss= 2.16614 train_acc= 0.38290 val_loss= 1.97032 val_acc= 0.47314 time= 5.61420\n",
            "Epoch: 0139 train_loss= 2.16689 train_acc= 0.38395 val_loss= 1.96528 val_acc= 0.47771 time= 5.63767\n",
            "Epoch: 0140 train_loss= 2.16114 train_acc= 0.38710 val_loss= 1.96081 val_acc= 0.47986 time= 5.71176\n",
            "Epoch: 0141 train_loss= 2.14791 train_acc= 0.38938 val_loss= 1.95862 val_acc= 0.47343 time= 5.81086\n",
            "Epoch: 0142 train_loss= 2.16455 train_acc= 0.38210 val_loss= 1.95475 val_acc= 0.47429 time= 5.71088\n",
            "Epoch: 0143 train_loss= 2.16098 train_acc= 0.38167 val_loss= 1.94896 val_acc= 0.48257 time= 5.71057\n",
            "Epoch: 0144 train_loss= 2.15952 train_acc= 0.38324 val_loss= 1.94589 val_acc= 0.48200 time= 5.82167\n",
            "Epoch: 0145 train_loss= 2.15269 train_acc= 0.38581 val_loss= 1.94355 val_acc= 0.47929 time= 5.74616\n",
            "Epoch: 0146 train_loss= 2.15540 train_acc= 0.38500 val_loss= 1.94028 val_acc= 0.47857 time= 5.64626\n",
            "Epoch: 0147 train_loss= 2.14692 train_acc= 0.38690 val_loss= 1.93490 val_acc= 0.48600 time= 5.69105\n",
            "Epoch: 0148 train_loss= 2.14666 train_acc= 0.38943 val_loss= 1.93100 val_acc= 0.48743 time= 5.69169\n",
            "Epoch: 0149 train_loss= 2.13469 train_acc= 0.38867 val_loss= 1.92940 val_acc= 0.48229 time= 5.68476\n",
            "Epoch: 0150 train_loss= 2.14149 train_acc= 0.38662 val_loss= 1.92704 val_acc= 0.48114 time= 5.69040\n",
            "Epoch: 0151 train_loss= 2.13240 train_acc= 0.39010 val_loss= 1.92219 val_acc= 0.48957 time= 5.67552\n",
            "Epoch: 0152 train_loss= 2.13450 train_acc= 0.39376 val_loss= 1.91882 val_acc= 0.49157 time= 5.71676\n",
            "Epoch: 0153 train_loss= 2.12701 train_acc= 0.39443 val_loss= 1.91689 val_acc= 0.48786 time= 5.68204\n",
            "Epoch: 0154 train_loss= 2.12928 train_acc= 0.39214 val_loss= 1.91318 val_acc= 0.49286 time= 5.67550\n",
            "Epoch: 0155 train_loss= 2.13008 train_acc= 0.39143 val_loss= 1.91063 val_acc= 0.49271 time= 5.81446\n",
            "Epoch: 0156 train_loss= 2.12413 train_acc= 0.39633 val_loss= 1.90784 val_acc= 0.49214 time= 5.66569\n",
            "Epoch: 0157 train_loss= 2.12069 train_acc= 0.39200 val_loss= 1.90447 val_acc= 0.49714 time= 5.77010\n",
            "Epoch: 0158 train_loss= 2.11984 train_acc= 0.39395 val_loss= 1.90091 val_acc= 0.50043 time= 5.73033\n",
            "Epoch: 0159 train_loss= 2.12521 train_acc= 0.39195 val_loss= 1.89863 val_acc= 0.49814 time= 5.66127\n",
            "Epoch: 0160 train_loss= 2.12604 train_acc= 0.39319 val_loss= 1.89565 val_acc= 0.50143 time= 5.73379\n",
            "Epoch: 0161 train_loss= 2.10842 train_acc= 0.39833 val_loss= 1.89183 val_acc= 0.50643 time= 5.74640\n",
            "Epoch: 0162 train_loss= 2.11089 train_acc= 0.40233 val_loss= 1.88963 val_acc= 0.50614 time= 5.78279\n",
            "Epoch: 0163 train_loss= 2.10935 train_acc= 0.40119 val_loss= 1.88773 val_acc= 0.50557 time= 5.74208\n",
            "Epoch: 0164 train_loss= 2.11006 train_acc= 0.39848 val_loss= 1.88472 val_acc= 0.50814 time= 5.74028\n",
            "Epoch: 0165 train_loss= 2.10864 train_acc= 0.40281 val_loss= 1.88004 val_acc= 0.51443 time= 5.74817\n",
            "Epoch: 0166 train_loss= 2.10167 train_acc= 0.40476 val_loss= 1.87694 val_acc= 0.51486 time= 5.69148\n",
            "Epoch: 0167 train_loss= 2.10066 train_acc= 0.40400 val_loss= 1.87396 val_acc= 0.51514 time= 5.71121\n",
            "Epoch: 0168 train_loss= 2.09389 train_acc= 0.40771 val_loss= 1.87174 val_acc= 0.51414 time= 5.73722\n",
            "Epoch: 0169 train_loss= 2.09882 train_acc= 0.40433 val_loss= 1.87104 val_acc= 0.50800 time= 5.72785\n",
            "Epoch: 0170 train_loss= 2.10300 train_acc= 0.40076 val_loss= 1.86747 val_acc= 0.51443 time= 5.62861\n",
            "Epoch: 0171 train_loss= 2.09637 train_acc= 0.40319 val_loss= 1.86306 val_acc= 0.52257 time= 5.71250\n",
            "Epoch: 0172 train_loss= 2.09354 train_acc= 0.40367 val_loss= 1.86045 val_acc= 0.52386 time= 5.79882\n",
            "Epoch: 0173 train_loss= 2.09121 train_acc= 0.40705 val_loss= 1.85971 val_acc= 0.51886 time= 5.78011\n",
            "Epoch: 0174 train_loss= 2.09163 train_acc= 0.40495 val_loss= 1.85867 val_acc= 0.51414 time= 5.79497\n",
            "Epoch: 0175 train_loss= 2.08684 train_acc= 0.40467 val_loss= 1.85461 val_acc= 0.52171 time= 5.82392\n",
            "Epoch: 0176 train_loss= 2.08331 train_acc= 0.40662 val_loss= 1.84979 val_acc= 0.53186 time= 5.80593\n",
            "Epoch: 0177 train_loss= 2.09585 train_acc= 0.40710 val_loss= 1.84875 val_acc= 0.52700 time= 5.76390\n",
            "Epoch: 0178 train_loss= 2.08792 train_acc= 0.40800 val_loss= 1.84773 val_acc= 0.52229 time= 5.87206\n",
            "Epoch: 0179 train_loss= 2.08139 train_acc= 0.41033 val_loss= 1.84303 val_acc= 0.53171 time= 5.80386\n",
            "Epoch: 0180 train_loss= 2.08264 train_acc= 0.40971 val_loss= 1.83945 val_acc= 0.53729 time= 5.75897\n",
            "Epoch: 0181 train_loss= 2.08185 train_acc= 0.40729 val_loss= 1.83756 val_acc= 0.53829 time= 5.82239\n",
            "Epoch: 0182 train_loss= 2.07939 train_acc= 0.41048 val_loss= 1.83910 val_acc= 0.52471 time= 5.76964\n",
            "Epoch: 0183 train_loss= 2.07824 train_acc= 0.40986 val_loss= 1.83507 val_acc= 0.53471 time= 5.74375\n",
            "Epoch: 0184 train_loss= 2.06672 train_acc= 0.41367 val_loss= 1.83012 val_acc= 0.54771 time= 5.71466\n",
            "Epoch: 0185 train_loss= 2.07386 train_acc= 0.41619 val_loss= 1.82928 val_acc= 0.54400 time= 5.72402\n",
            "Epoch: 0186 train_loss= 2.07712 train_acc= 0.41286 val_loss= 1.82998 val_acc= 0.53386 time= 5.83932\n",
            "Epoch: 0187 train_loss= 2.06772 train_acc= 0.41619 val_loss= 1.82539 val_acc= 0.54157 time= 5.71685\n",
            "Epoch: 0188 train_loss= 2.06976 train_acc= 0.41557 val_loss= 1.82153 val_acc= 0.54700 time= 5.74957\n",
            "Epoch: 0189 train_loss= 2.06965 train_acc= 0.41562 val_loss= 1.81927 val_acc= 0.54986 time= 5.76112\n",
            "Epoch: 0190 train_loss= 2.06977 train_acc= 0.41319 val_loss= 1.81969 val_acc= 0.54014 time= 5.69976\n",
            "Epoch: 0191 train_loss= 2.06040 train_acc= 0.41695 val_loss= 1.81709 val_acc= 0.54529 time= 5.73212\n",
            "Epoch: 0192 train_loss= 2.06631 train_acc= 0.41476 val_loss= 1.81405 val_acc= 0.55071 time= 5.68417\n",
            "Epoch: 0193 train_loss= 2.05696 train_acc= 0.41833 val_loss= 1.81260 val_acc= 0.55000 time= 5.67486\n",
            "Epoch: 0194 train_loss= 2.06792 train_acc= 0.41690 val_loss= 1.81166 val_acc= 0.54714 time= 5.73428\n",
            "Epoch: 0195 train_loss= 2.06748 train_acc= 0.41295 val_loss= 1.80825 val_acc= 0.55243 time= 5.70744\n",
            "Epoch: 0196 train_loss= 2.06112 train_acc= 0.41833 val_loss= 1.80414 val_acc= 0.55986 time= 5.64686\n",
            "Epoch: 0197 train_loss= 2.06727 train_acc= 0.41533 val_loss= 1.80438 val_acc= 0.55300 time= 5.72567\n",
            "Epoch: 0198 train_loss= 2.05653 train_acc= 0.41695 val_loss= 1.80503 val_acc= 0.54300 time= 5.65666\n",
            "Epoch: 0199 train_loss= 2.06231 train_acc= 0.41348 val_loss= 1.80103 val_acc= 0.55329 time= 5.74544\n",
            "Epoch: 0200 train_loss= 2.05513 train_acc= 0.41738 val_loss= 1.79764 val_acc= 0.55886 time= 5.69693\n",
            "Epoch: 0201 train_loss= 2.05676 train_acc= 0.41886 val_loss= 1.79722 val_acc= 0.55529 time= 5.63222\n",
            "Epoch: 0202 train_loss= 2.05274 train_acc= 0.42067 val_loss= 1.79755 val_acc= 0.54857 time= 5.70347\n",
            "Epoch: 0203 train_loss= 2.06030 train_acc= 0.41652 val_loss= 1.79426 val_acc= 0.55771 time= 5.65149\n",
            "Epoch: 0204 train_loss= 2.04902 train_acc= 0.41857 val_loss= 1.79173 val_acc= 0.56214 time= 5.69368\n",
            "Epoch: 0205 train_loss= 2.05102 train_acc= 0.41795 val_loss= 1.79181 val_acc= 0.55414 time= 5.66057\n",
            "Epoch: 0206 train_loss= 2.04960 train_acc= 0.41829 val_loss= 1.79085 val_acc= 0.55171 time= 5.70366\n",
            "Epoch: 0207 train_loss= 2.04003 train_acc= 0.41819 val_loss= 1.78831 val_acc= 0.55500 time= 5.64713\n",
            "Epoch: 0208 train_loss= 2.04459 train_acc= 0.42533 val_loss= 1.78511 val_acc= 0.56314 time= 5.61867\n",
            "Epoch: 0209 train_loss= 2.04526 train_acc= 0.42271 val_loss= 1.78381 val_acc= 0.56200 time= 5.65696\n",
            "Epoch: 0210 train_loss= 2.04490 train_acc= 0.41919 val_loss= 1.78462 val_acc= 0.55414 time= 5.72111\n",
            "Epoch: 0211 train_loss= 2.04581 train_acc= 0.41752 val_loss= 1.78250 val_acc= 0.55571 time= 5.69740\n",
            "Epoch: 0212 train_loss= 2.04441 train_acc= 0.41890 val_loss= 1.77882 val_acc= 0.56314 time= 5.66055\n",
            "Epoch: 0213 train_loss= 2.04437 train_acc= 0.42386 val_loss= 1.77806 val_acc= 0.56286 time= 5.66802\n",
            "Epoch: 0214 train_loss= 2.04094 train_acc= 0.41986 val_loss= 1.77808 val_acc= 0.55886 time= 5.66622\n",
            "Epoch: 0215 train_loss= 2.04506 train_acc= 0.42167 val_loss= 1.77577 val_acc= 0.56171 time= 5.63994\n",
            "Epoch: 0216 train_loss= 2.04000 train_acc= 0.41905 val_loss= 1.77255 val_acc= 0.57186 time= 5.66241\n",
            "Epoch: 0217 train_loss= 2.03048 train_acc= 0.42686 val_loss= 1.77094 val_acc= 0.57286 time= 5.66907\n",
            "Epoch: 0218 train_loss= 2.03518 train_acc= 0.42338 val_loss= 1.77047 val_acc= 0.57100 time= 5.70223\n",
            "Epoch: 0219 train_loss= 2.04259 train_acc= 0.42014 val_loss= 1.77062 val_acc= 0.56471 time= 5.64741\n",
            "Epoch: 0220 train_loss= 2.03577 train_acc= 0.42014 val_loss= 1.76975 val_acc= 0.56429 time= 5.76571\n",
            "Epoch: 0221 train_loss= 2.03207 train_acc= 0.42019 val_loss= 1.76481 val_acc= 0.57600 time= 5.71963\n",
            "Epoch: 0222 train_loss= 2.03283 train_acc= 0.42410 val_loss= 1.76373 val_acc= 0.57457 time= 5.66643\n",
            "Epoch: 0223 train_loss= 2.03764 train_acc= 0.42310 val_loss= 1.76557 val_acc= 0.56700 time= 5.69710\n",
            "Epoch: 0224 train_loss= 2.02931 train_acc= 0.42157 val_loss= 1.76270 val_acc= 0.57257 time= 5.70077\n",
            "Epoch: 0225 train_loss= 2.02944 train_acc= 0.42567 val_loss= 1.75738 val_acc= 0.58143 time= 5.76867\n",
            "Epoch: 0226 train_loss= 2.02984 train_acc= 0.42862 val_loss= 1.75697 val_acc= 0.57714 time= 5.71951\n",
            "Epoch: 0227 train_loss= 2.02678 train_acc= 0.42924 val_loss= 1.75879 val_acc= 0.56600 time= 5.65005\n",
            "Epoch: 0228 train_loss= 2.01843 train_acc= 0.42319 val_loss= 1.75605 val_acc= 0.56857 time= 5.72334\n",
            "Epoch: 0229 train_loss= 2.02050 train_acc= 0.42538 val_loss= 1.75105 val_acc= 0.57814 time= 5.73656\n",
            "Epoch: 0230 train_loss= 2.02908 train_acc= 0.42500 val_loss= 1.74944 val_acc= 0.58086 time= 5.65828\n",
            "Epoch: 0231 train_loss= 2.02973 train_acc= 0.42305 val_loss= 1.75050 val_acc= 0.57629 time= 5.64843\n",
            "Epoch: 0232 train_loss= 2.02068 train_acc= 0.42543 val_loss= 1.75050 val_acc= 0.57457 time= 5.65990\n",
            "Epoch: 0233 train_loss= 2.02661 train_acc= 0.42495 val_loss= 1.74873 val_acc= 0.57629 time= 5.61735\n",
            "Epoch: 0234 train_loss= 2.01668 train_acc= 0.42843 val_loss= 1.74585 val_acc= 0.57871 time= 5.61646\n",
            "Epoch: 0235 train_loss= 2.01604 train_acc= 0.42938 val_loss= 1.74469 val_acc= 0.57614 time= 5.64655\n",
            "Epoch: 0236 train_loss= 2.02380 train_acc= 0.42457 val_loss= 1.74436 val_acc= 0.57257 time= 5.66632\n",
            "Epoch: 0237 train_loss= 2.01124 train_acc= 0.42690 val_loss= 1.74166 val_acc= 0.57957 time= 5.64539\n",
            "Epoch: 0238 train_loss= 2.00822 train_acc= 0.43086 val_loss= 1.74000 val_acc= 0.58071 time= 5.60422\n",
            "Epoch: 0239 train_loss= 2.03013 train_acc= 0.42100 val_loss= 1.73954 val_acc= 0.57871 time= 5.70667\n",
            "Epoch: 0240 train_loss= 2.01505 train_acc= 0.42529 val_loss= 1.73700 val_acc= 0.58114 time= 5.64713\n",
            "Epoch: 0241 train_loss= 2.01526 train_acc= 0.42724 val_loss= 1.73623 val_acc= 0.58043 time= 5.72624\n",
            "Epoch: 0242 train_loss= 2.02397 train_acc= 0.42662 val_loss= 1.73774 val_acc= 0.57129 time= 5.71932\n",
            "Epoch: 0243 train_loss= 2.01462 train_acc= 0.42762 val_loss= 1.73473 val_acc= 0.57329 time= 5.70479\n",
            "Epoch: 0244 train_loss= 2.01176 train_acc= 0.42857 val_loss= 1.73032 val_acc= 0.58543 time= 5.69723\n",
            "Epoch: 0245 train_loss= 2.00831 train_acc= 0.43214 val_loss= 1.72919 val_acc= 0.58571 time= 5.67283\n",
            "Epoch: 0246 train_loss= 2.00078 train_acc= 0.43024 val_loss= 1.73123 val_acc= 0.57600 time= 5.70631\n",
            "Epoch: 0247 train_loss= 1.99457 train_acc= 0.43505 val_loss= 1.72833 val_acc= 0.58314 time= 5.68474\n",
            "Epoch: 0248 train_loss= 2.01086 train_acc= 0.42995 val_loss= 1.72495 val_acc= 0.58586 time= 5.65788\n",
            "Epoch: 0249 train_loss= 2.00677 train_acc= 0.43310 val_loss= 1.72411 val_acc= 0.58471 time= 5.71527\n",
            "Epoch: 0250 train_loss= 2.00783 train_acc= 0.42852 val_loss= 1.72487 val_acc= 0.57786 time= 5.73270\n",
            "Epoch: 0251 train_loss= 2.00142 train_acc= 0.43076 val_loss= 1.72375 val_acc= 0.57829 time= 5.66647\n",
            "Epoch: 0252 train_loss= 1.99217 train_acc= 0.43124 val_loss= 1.72029 val_acc= 0.58543 time= 5.64163\n",
            "Epoch: 0253 train_loss= 2.00117 train_acc= 0.43429 val_loss= 1.71732 val_acc= 0.59086 time= 5.65428\n",
            "Epoch: 0254 train_loss= 1.99686 train_acc= 0.43786 val_loss= 1.71949 val_acc= 0.58214 time= 5.60262\n",
            "Epoch: 0255 train_loss= 2.00469 train_acc= 0.42962 val_loss= 1.72178 val_acc= 0.57214 time= 5.69360\n",
            "Epoch: 0256 train_loss= 1.99526 train_acc= 0.42986 val_loss= 1.71618 val_acc= 0.58714 time= 5.67209\n",
            "Epoch: 0257 train_loss= 2.00120 train_acc= 0.43019 val_loss= 1.71320 val_acc= 0.59386 time= 5.68312\n",
            "Epoch: 0258 train_loss= 1.99973 train_acc= 0.43391 val_loss= 1.71464 val_acc= 0.58543 time= 5.65345\n",
            "Epoch: 0259 train_loss= 2.00190 train_acc= 0.43043 val_loss= 1.71443 val_acc= 0.58086 time= 5.61028\n",
            "Epoch: 0260 train_loss= 2.00366 train_acc= 0.42767 val_loss= 1.71139 val_acc= 0.58400 time= 5.70067\n",
            "Epoch: 0261 train_loss= 2.00532 train_acc= 0.42876 val_loss= 1.70914 val_acc= 0.58629 time= 5.61852\n",
            "Epoch: 0262 train_loss= 1.99888 train_acc= 0.43167 val_loss= 1.70847 val_acc= 0.58814 time= 5.69242\n",
            "Epoch: 0263 train_loss= 1.99256 train_acc= 0.43300 val_loss= 1.70828 val_acc= 0.58814 time= 5.71883\n",
            "Epoch: 0264 train_loss= 1.99374 train_acc= 0.43491 val_loss= 1.70710 val_acc= 0.58971 time= 5.66609\n",
            "Epoch: 0265 train_loss= 1.99454 train_acc= 0.43124 val_loss= 1.70374 val_acc= 0.59871 time= 5.78174\n",
            "Epoch: 0266 train_loss= 1.99116 train_acc= 0.43610 val_loss= 1.70323 val_acc= 0.59514 time= 5.69064\n",
            "Epoch: 0267 train_loss= 1.98549 train_acc= 0.43957 val_loss= 1.70444 val_acc= 0.58700 time= 5.72387\n",
            "Epoch: 0268 train_loss= 1.99439 train_acc= 0.42886 val_loss= 1.70486 val_acc= 0.58286 time= 5.71911\n",
            "Epoch: 0269 train_loss= 1.98573 train_acc= 0.43391 val_loss= 1.69786 val_acc= 0.59657 time= 5.68007\n",
            "Epoch: 0270 train_loss= 1.98959 train_acc= 0.43491 val_loss= 1.69550 val_acc= 0.59900 time= 5.67539\n",
            "Epoch: 0271 train_loss= 1.97654 train_acc= 0.44005 val_loss= 1.69482 val_acc= 0.59557 time= 6.19723\n",
            "Epoch: 0272 train_loss= 1.99720 train_acc= 0.43448 val_loss= 1.69746 val_acc= 0.58543 time= 5.69116\n",
            "Epoch: 0273 train_loss= 1.98194 train_acc= 0.43624 val_loss= 1.69370 val_acc= 0.59214 time= 5.73254\n",
            "Epoch: 0274 train_loss= 1.98090 train_acc= 0.43605 val_loss= 1.68949 val_acc= 0.60114 time= 5.68958\n",
            "Epoch: 0275 train_loss= 1.97792 train_acc= 0.43638 val_loss= 1.68762 val_acc= 0.60457 time= 5.67031\n",
            "Epoch: 0276 train_loss= 1.97908 train_acc= 0.43886 val_loss= 1.68976 val_acc= 0.59429 time= 5.72487\n",
            "Epoch: 0277 train_loss= 1.98067 train_acc= 0.43595 val_loss= 1.69012 val_acc= 0.59143 time= 5.75497\n",
            "Epoch: 0278 train_loss= 1.98161 train_acc= 0.43743 val_loss= 1.68725 val_acc= 0.59814 time= 5.82814\n",
            "Epoch: 0279 train_loss= 1.98355 train_acc= 0.43776 val_loss= 1.68364 val_acc= 0.60429 time= 5.84593\n",
            "Epoch: 0280 train_loss= 1.98900 train_acc= 0.43833 val_loss= 1.68329 val_acc= 0.60729 time= 5.74156\n",
            "Epoch: 0281 train_loss= 1.97636 train_acc= 0.43910 val_loss= 1.68379 val_acc= 0.60400 time= 5.80692\n",
            "Epoch: 0282 train_loss= 1.97164 train_acc= 0.43919 val_loss= 1.68179 val_acc= 0.60586 time= 5.72288\n",
            "Epoch: 0283 train_loss= 1.97623 train_acc= 0.43952 val_loss= 1.68058 val_acc= 0.60429 time= 5.89506\n",
            "Epoch: 0284 train_loss= 1.96745 train_acc= 0.43881 val_loss= 1.67865 val_acc= 0.60671 time= 5.87716\n",
            "Epoch: 0285 train_loss= 1.97395 train_acc= 0.43871 val_loss= 1.67775 val_acc= 0.60357 time= 5.86508\n",
            "Epoch: 0286 train_loss= 1.97454 train_acc= 0.43986 val_loss= 1.67657 val_acc= 0.60371 time= 5.94376\n",
            "Epoch: 0287 train_loss= 1.97406 train_acc= 0.43752 val_loss= 1.67651 val_acc= 0.60029 time= 5.78356\n",
            "Epoch: 0288 train_loss= 1.96944 train_acc= 0.44157 val_loss= 1.67422 val_acc= 0.60771 time= 5.85041\n",
            "Epoch: 0289 train_loss= 1.97115 train_acc= 0.43910 val_loss= 1.67218 val_acc= 0.61329 time= 5.77234\n",
            "Epoch: 0290 train_loss= 1.96522 train_acc= 0.44371 val_loss= 1.67236 val_acc= 0.60800 time= 5.77376\n",
            "Epoch: 0291 train_loss= 1.97496 train_acc= 0.44205 val_loss= 1.67291 val_acc= 0.60257 time= 5.79454\n",
            "Epoch: 0292 train_loss= 1.97063 train_acc= 0.43910 val_loss= 1.67007 val_acc= 0.60686 time= 5.69571\n",
            "Epoch: 0293 train_loss= 1.96689 train_acc= 0.44119 val_loss= 1.66790 val_acc= 0.60786 time= 5.72218\n",
            "Epoch: 0294 train_loss= 1.97666 train_acc= 0.43771 val_loss= 1.66662 val_acc= 0.61143 time= 5.73976\n",
            "Epoch: 0295 train_loss= 1.96692 train_acc= 0.44048 val_loss= 1.66688 val_acc= 0.61057 time= 5.70797\n",
            "Epoch: 0296 train_loss= 1.97436 train_acc= 0.43843 val_loss= 1.66507 val_acc= 0.61414 time= 5.65256\n",
            "Epoch: 0297 train_loss= 1.95626 train_acc= 0.44324 val_loss= 1.66348 val_acc= 0.61500 time= 5.70440\n",
            "Epoch: 0298 train_loss= 1.96390 train_acc= 0.44500 val_loss= 1.66295 val_acc= 0.61200 time= 5.74232\n",
            "Epoch: 0299 train_loss= 1.96151 train_acc= 0.44176 val_loss= 1.66346 val_acc= 0.60529 time= 5.71013\n",
            "Epoch: 0300 train_loss= 1.96898 train_acc= 0.44181 val_loss= 1.66008 val_acc= 0.61129 time= 5.67892\n",
            "Epoch: 0301 train_loss= 1.96936 train_acc= 0.44338 val_loss= 1.66025 val_acc= 0.61371 time= 5.67419\n",
            "Epoch: 0302 train_loss= 1.96266 train_acc= 0.44252 val_loss= 1.65947 val_acc= 0.61429 time= 5.70138\n",
            "Epoch: 0303 train_loss= 1.95615 train_acc= 0.44829 val_loss= 1.65770 val_acc= 0.61571 time= 5.67940\n",
            "Epoch: 0304 train_loss= 1.95813 train_acc= 0.44495 val_loss= 1.65695 val_acc= 0.61600 time= 5.66633\n",
            "Epoch: 0305 train_loss= 1.96094 train_acc= 0.44552 val_loss= 1.65680 val_acc= 0.61186 time= 5.63825\n",
            "Epoch: 0306 train_loss= 1.95479 train_acc= 0.44557 val_loss= 1.65494 val_acc= 0.61571 time= 5.65851\n",
            "Epoch: 0307 train_loss= 1.96594 train_acc= 0.44233 val_loss= 1.65483 val_acc= 0.61343 time= 5.69766\n",
            "Epoch: 0308 train_loss= 1.95457 train_acc= 0.44462 val_loss= 1.65357 val_acc= 0.61500 time= 5.64700\n",
            "Epoch: 0309 train_loss= 1.94776 train_acc= 0.44552 val_loss= 1.65161 val_acc= 0.61686 time= 5.70800\n",
            "Epoch: 0310 train_loss= 1.94601 train_acc= 0.44657 val_loss= 1.65121 val_acc= 0.61371 time= 5.64793\n",
            "Epoch: 0311 train_loss= 1.95330 train_acc= 0.44638 val_loss= 1.65066 val_acc= 0.61143 time= 5.64073\n",
            "Epoch: 0312 train_loss= 1.95103 train_acc= 0.44795 val_loss= 1.64828 val_acc= 0.61543 time= 5.72217\n",
            "Epoch: 0313 train_loss= 1.94681 train_acc= 0.44700 val_loss= 1.64614 val_acc= 0.61929 time= 6.06296\n",
            "Epoch: 0314 train_loss= 1.95813 train_acc= 0.44295 val_loss= 1.64690 val_acc= 0.61586 time= 5.65861\n",
            "Epoch: 0315 train_loss= 1.95943 train_acc= 0.44191 val_loss= 1.64638 val_acc= 0.61314 time= 5.63456\n",
            "Epoch: 0316 train_loss= 1.96084 train_acc= 0.44114 val_loss= 1.64405 val_acc= 0.61557 time= 5.66959\n",
            "Epoch: 0317 train_loss= 1.95515 train_acc= 0.44429 val_loss= 1.64282 val_acc= 0.61543 time= 5.63042\n",
            "Epoch: 0318 train_loss= 1.95373 train_acc= 0.44357 val_loss= 1.64138 val_acc= 0.61643 time= 5.68466\n",
            "Epoch: 0319 train_loss= 1.94379 train_acc= 0.45091 val_loss= 1.64038 val_acc= 0.61786 time= 5.69542\n",
            "Epoch: 0320 train_loss= 1.95359 train_acc= 0.44529 val_loss= 1.63997 val_acc= 0.61714 time= 5.69189\n",
            "Epoch: 0321 train_loss= 1.94781 train_acc= 0.44352 val_loss= 1.63848 val_acc= 0.61829 time= 5.63415\n",
            "Epoch: 0322 train_loss= 1.94718 train_acc= 0.44781 val_loss= 1.63693 val_acc= 0.61900 time= 5.61379\n",
            "Epoch: 0323 train_loss= 1.94859 train_acc= 0.45052 val_loss= 1.63735 val_acc= 0.61557 time= 5.72128\n",
            "Epoch: 0324 train_loss= 1.93193 train_acc= 0.45100 val_loss= 1.63648 val_acc= 0.61386 time= 5.62054\n",
            "Epoch: 0325 train_loss= 1.94673 train_acc= 0.44891 val_loss= 1.63543 val_acc= 0.61429 time= 5.61515\n",
            "Epoch: 0326 train_loss= 1.95043 train_acc= 0.44652 val_loss= 1.63303 val_acc= 0.62043 time= 5.64517\n",
            "Epoch: 0327 train_loss= 1.94794 train_acc= 0.44576 val_loss= 1.63350 val_acc= 0.62114 time= 5.58532\n",
            "Epoch: 0328 train_loss= 1.94693 train_acc= 0.44862 val_loss= 1.63428 val_acc= 0.61943 time= 5.60953\n",
            "Epoch: 0329 train_loss= 1.93525 train_acc= 0.45191 val_loss= 1.63306 val_acc= 0.61800 time= 5.58600\n",
            "Epoch: 0330 train_loss= 1.94834 train_acc= 0.44843 val_loss= 1.63204 val_acc= 0.61686 time= 5.63842\n",
            "Epoch: 0331 train_loss= 1.95122 train_acc= 0.44748 val_loss= 1.63171 val_acc= 0.61457 time= 5.63214\n",
            "Epoch: 0332 train_loss= 1.94657 train_acc= 0.44786 val_loss= 1.63030 val_acc= 0.61657 time= 5.60995\n",
            "Epoch: 0333 train_loss= 1.94168 train_acc= 0.44814 val_loss= 1.62847 val_acc= 0.61986 time= 5.63613\n",
            "Epoch: 0334 train_loss= 1.94831 train_acc= 0.45067 val_loss= 1.62776 val_acc= 0.62143 time= 5.70438\n",
            "Epoch: 0335 train_loss= 1.93690 train_acc= 0.44938 val_loss= 1.62696 val_acc= 0.62300 time= 5.64872\n",
            "Epoch: 0336 train_loss= 1.94074 train_acc= 0.44724 val_loss= 1.62597 val_acc= 0.62257 time= 5.64826\n",
            "Epoch: 0337 train_loss= 1.93631 train_acc= 0.45414 val_loss= 1.62777 val_acc= 0.61671 time= 5.62531\n",
            "Epoch: 0338 train_loss= 1.94274 train_acc= 0.44891 val_loss= 1.62650 val_acc= 0.61643 time= 5.61284\n",
            "Epoch: 0339 train_loss= 1.94943 train_acc= 0.44786 val_loss= 1.62484 val_acc= 0.62100 time= 5.69433\n",
            "Epoch: 0340 train_loss= 1.94574 train_acc= 0.45095 val_loss= 1.62483 val_acc= 0.62314 time= 5.60351\n",
            "Epoch: 0341 train_loss= 1.94243 train_acc= 0.45048 val_loss= 1.62642 val_acc= 0.62171 time= 5.67769\n",
            "Epoch: 0342 train_loss= 1.93895 train_acc= 0.45348 val_loss= 1.62389 val_acc= 0.62529 time= 5.66091\n",
            "Epoch: 0343 train_loss= 1.94134 train_acc= 0.44714 val_loss= 1.62354 val_acc= 0.62457 time= 5.64137\n",
            "Epoch: 0344 train_loss= 1.94922 train_acc= 0.45195 val_loss= 1.62471 val_acc= 0.62357 time= 5.70305\n",
            "Epoch: 0345 train_loss= 1.95239 train_acc= 0.44500 val_loss= 1.62708 val_acc= 0.61571 time= 5.68250\n",
            "Epoch: 0346 train_loss= 1.93325 train_acc= 0.45024 val_loss= 1.62553 val_acc= 0.61729 time= 5.67718\n",
            "Epoch: 0347 train_loss= 1.92817 train_acc= 0.45557 val_loss= 1.62037 val_acc= 0.62614 time= 5.71571\n",
            "Epoch: 0348 train_loss= 1.94622 train_acc= 0.44833 val_loss= 1.61959 val_acc= 0.62657 time= 5.67027\n",
            "Epoch: 0349 train_loss= 1.92721 train_acc= 0.45429 val_loss= 1.62048 val_acc= 0.62057 time= 5.67982\n",
            "Epoch: 0350 train_loss= 1.93252 train_acc= 0.45157 val_loss= 1.61789 val_acc= 0.62300 time= 5.69497\n",
            "Epoch: 0351 train_loss= 1.93808 train_acc= 0.45314 val_loss= 1.61367 val_acc= 0.62900 time= 5.69337\n",
            "Epoch: 0352 train_loss= 1.93560 train_acc= 0.44991 val_loss= 1.61160 val_acc= 0.62814 time= 5.67820\n",
            "Epoch: 0353 train_loss= 1.91911 train_acc= 0.45967 val_loss= 1.61382 val_acc= 0.61929 time= 5.68994\n",
            "Epoch: 0354 train_loss= 1.93163 train_acc= 0.45100 val_loss= 1.61358 val_acc= 0.62043 time= 5.66038\n",
            "Epoch: 0355 train_loss= 1.92770 train_acc= 0.45333 val_loss= 1.60876 val_acc= 0.63114 time= 5.72191\n",
            "Epoch: 0356 train_loss= 1.92485 train_acc= 0.45491 val_loss= 1.60823 val_acc= 0.63257 time= 5.91019\n",
            "Epoch: 0357 train_loss= 1.92611 train_acc= 0.45571 val_loss= 1.60994 val_acc= 0.62771 time= 5.68437\n",
            "Epoch: 0358 train_loss= 1.92388 train_acc= 0.45519 val_loss= 1.60858 val_acc= 0.62657 time= 5.61252\n",
            "Epoch: 0359 train_loss= 1.92001 train_acc= 0.45638 val_loss= 1.60603 val_acc= 0.62957 time= 5.61809\n",
            "Epoch: 0360 train_loss= 1.94066 train_acc= 0.45238 val_loss= 1.60607 val_acc= 0.62886 time= 5.65093\n",
            "Epoch: 0361 train_loss= 1.92352 train_acc= 0.45505 val_loss= 1.60724 val_acc= 0.62757 time= 5.59117\n",
            "Epoch: 0362 train_loss= 1.91963 train_acc= 0.45443 val_loss= 1.60552 val_acc= 0.63343 time= 5.62285\n",
            "Epoch: 0363 train_loss= 1.93294 train_acc= 0.45476 val_loss= 1.60500 val_acc= 0.63329 time= 5.62058\n",
            "Epoch: 0364 train_loss= 1.93359 train_acc= 0.45195 val_loss= 1.60518 val_acc= 0.62943 time= 5.64015\n",
            "Epoch: 0365 train_loss= 1.91368 train_acc= 0.45667 val_loss= 1.60355 val_acc= 0.62786 time= 5.67766\n",
            "Epoch: 0366 train_loss= 1.92705 train_acc= 0.45733 val_loss= 1.60300 val_acc= 0.62486 time= 5.61657\n",
            "Epoch: 0367 train_loss= 1.92637 train_acc= 0.45352 val_loss= 1.60198 val_acc= 0.62571 time= 5.70683\n",
            "Epoch: 0368 train_loss= 1.93104 train_acc= 0.45338 val_loss= 1.60165 val_acc= 0.62586 time= 5.75047\n",
            "Epoch: 0369 train_loss= 1.91748 train_acc= 0.46062 val_loss= 1.59815 val_acc= 0.63071 time= 5.69905\n",
            "Epoch: 0370 train_loss= 1.92728 train_acc= 0.45367 val_loss= 1.59739 val_acc= 0.63214 time= 5.65800\n",
            "Epoch: 0371 train_loss= 1.90910 train_acc= 0.46257 val_loss= 1.59872 val_acc= 0.62786 time= 5.66819\n",
            "Epoch: 0372 train_loss= 1.92784 train_acc= 0.45824 val_loss= 1.60036 val_acc= 0.62429 time= 5.66178\n",
            "Epoch: 0373 train_loss= 1.91768 train_acc= 0.45800 val_loss= 1.59897 val_acc= 0.62843 time= 5.64274\n",
            "Epoch: 0374 train_loss= 1.91902 train_acc= 0.45791 val_loss= 1.59961 val_acc= 0.62829 time= 5.63474\n",
            "Epoch: 0375 train_loss= 1.92494 train_acc= 0.45952 val_loss= 1.59961 val_acc= 0.62914 time= 5.59978\n",
            "Epoch: 0376 train_loss= 1.91211 train_acc= 0.45933 val_loss= 1.59738 val_acc= 0.63086 time= 5.76271\n",
            "Epoch: 0377 train_loss= 1.92449 train_acc= 0.45419 val_loss= 1.59522 val_acc= 0.63314 time= 5.61053\n",
            "Epoch: 0378 train_loss= 1.92699 train_acc= 0.45852 val_loss= 1.59487 val_acc= 0.62900 time= 5.67149\n",
            "Epoch: 0379 train_loss= 1.91541 train_acc= 0.45862 val_loss= 1.59361 val_acc= 0.62714 time= 5.62865\n",
            "Epoch: 0380 train_loss= 1.91741 train_acc= 0.45643 val_loss= 1.59078 val_acc= 0.63214 time= 5.64346\n",
            "Epoch: 0381 train_loss= 1.91020 train_acc= 0.46257 val_loss= 1.58915 val_acc= 0.63386 time= 5.63061\n",
            "Epoch: 0382 train_loss= 1.91615 train_acc= 0.45695 val_loss= 1.59075 val_acc= 0.63186 time= 5.57752\n",
            "Epoch: 0383 train_loss= 1.91952 train_acc= 0.45991 val_loss= 1.59083 val_acc= 0.63200 time= 5.60229\n",
            "Epoch: 0384 train_loss= 1.91062 train_acc= 0.45705 val_loss= 1.58878 val_acc= 0.63343 time= 5.57785\n",
            "Epoch: 0385 train_loss= 1.92083 train_acc= 0.45881 val_loss= 1.58920 val_acc= 0.63214 time= 5.59881\n",
            "Epoch: 0386 train_loss= 1.90590 train_acc= 0.46191 val_loss= 1.59044 val_acc= 0.62957 time= 5.58224\n",
            "Epoch: 0387 train_loss= 1.90564 train_acc= 0.45748 val_loss= 1.59201 val_acc= 0.62857 time= 5.63332\n",
            "Epoch: 0388 train_loss= 1.90426 train_acc= 0.46310 val_loss= 1.58816 val_acc= 0.63657 time= 5.60448\n",
            "Epoch: 0389 train_loss= 1.91255 train_acc= 0.45995 val_loss= 1.58496 val_acc= 0.64171 time= 5.67055\n",
            "Epoch: 0390 train_loss= 1.91294 train_acc= 0.45748 val_loss= 1.58407 val_acc= 0.63843 time= 5.62256\n",
            "Epoch: 0391 train_loss= 1.91172 train_acc= 0.46048 val_loss= 1.58325 val_acc= 0.63400 time= 5.62933\n",
            "Epoch: 0392 train_loss= 1.90083 train_acc= 0.46110 val_loss= 1.58117 val_acc= 0.63586 time= 5.73514\n",
            "Epoch: 0393 train_loss= 1.90117 train_acc= 0.46305 val_loss= 1.58006 val_acc= 0.63857 time= 5.63581\n",
            "Epoch: 0394 train_loss= 1.91154 train_acc= 0.45900 val_loss= 1.58001 val_acc= 0.63743 time= 5.74005\n",
            "Epoch: 0395 train_loss= 1.91107 train_acc= 0.46010 val_loss= 1.57998 val_acc= 0.63871 time= 5.69297\n",
            "Epoch: 0396 train_loss= 1.91049 train_acc= 0.46191 val_loss= 1.58053 val_acc= 0.63814 time= 5.68067\n",
            "Epoch: 0397 train_loss= 1.91079 train_acc= 0.46000 val_loss= 1.58243 val_acc= 0.63671 time= 5.67827\n",
            "Epoch: 0398 train_loss= 1.91655 train_acc= 0.45471 val_loss= 1.58533 val_acc= 0.63529 time= 5.73603\n",
            "Epoch: 0399 train_loss= 1.90357 train_acc= 0.46210 val_loss= 1.58462 val_acc= 0.63829 time= 5.67411\n",
            "Epoch: 0400 train_loss= 1.90140 train_acc= 0.46262 val_loss= 1.57987 val_acc= 0.64757 time= 5.69462\n",
            "Epoch: 0401 train_loss= 1.90021 train_acc= 0.46557 val_loss= 1.57945 val_acc= 0.64629 time= 5.66155\n",
            "Epoch: 0402 train_loss= 1.89381 train_acc= 0.46648 val_loss= 1.58070 val_acc= 0.63757 time= 5.66481\n",
            "Epoch: 0403 train_loss= 1.90089 train_acc= 0.46071 val_loss= 1.57922 val_acc= 0.63443 time= 5.65387\n",
            "Epoch: 0404 train_loss= 1.89965 train_acc= 0.46229 val_loss= 1.57522 val_acc= 0.63529 time= 5.65043\n",
            "Epoch: 0405 train_loss= 1.90133 train_acc= 0.46271 val_loss= 1.57287 val_acc= 0.63943 time= 5.69573\n",
            "Epoch: 0406 train_loss= 1.90583 train_acc= 0.46414 val_loss= 1.57520 val_acc= 0.63629 time= 5.70467\n",
            "Epoch: 0407 train_loss= 1.90659 train_acc= 0.46038 val_loss= 1.57589 val_acc= 0.63814 time= 5.66353\n",
            "Epoch: 0408 train_loss= 1.89074 train_acc= 0.46505 val_loss= 1.57174 val_acc= 0.64686 time= 5.69367\n",
            "Epoch: 0409 train_loss= 1.90786 train_acc= 0.46205 val_loss= 1.57224 val_acc= 0.64471 time= 5.72092\n",
            "Epoch: 0410 train_loss= 1.89649 train_acc= 0.46705 val_loss= 1.57581 val_acc= 0.63629 time= 5.73411\n",
            "Epoch: 0411 train_loss= 1.89733 train_acc= 0.46252 val_loss= 1.57373 val_acc= 0.63929 time= 5.67640\n",
            "Epoch: 0412 train_loss= 1.88730 train_acc= 0.46805 val_loss= 1.56991 val_acc= 0.64443 time= 5.65455\n",
            "Epoch: 0413 train_loss= 1.89248 train_acc= 0.46671 val_loss= 1.56937 val_acc= 0.64571 time= 5.69093\n",
            "Epoch: 0414 train_loss= 1.89302 train_acc= 0.46748 val_loss= 1.57099 val_acc= 0.64143 time= 5.71459\n",
            "Epoch: 0415 train_loss= 1.90406 train_acc= 0.45814 val_loss= 1.56806 val_acc= 0.64314 time= 5.72845\n",
            "Epoch: 0416 train_loss= 1.90548 train_acc= 0.45962 val_loss= 1.56596 val_acc= 0.64571 time= 5.65488\n",
            "Epoch: 0417 train_loss= 1.90422 train_acc= 0.46714 val_loss= 1.56698 val_acc= 0.64114 time= 5.69609\n",
            "Epoch: 0418 train_loss= 1.88605 train_acc= 0.46886 val_loss= 1.56664 val_acc= 0.64057 time= 5.69497\n",
            "Epoch: 0419 train_loss= 1.88475 train_acc= 0.46767 val_loss= 1.56328 val_acc= 0.64429 time= 5.67469\n",
            "Epoch: 0420 train_loss= 1.90150 train_acc= 0.46495 val_loss= 1.56243 val_acc= 0.64586 time= 5.69413\n",
            "Epoch: 0421 train_loss= 1.90374 train_acc= 0.46162 val_loss= 1.56360 val_acc= 0.64271 time= 5.64405\n",
            "Epoch: 0422 train_loss= 1.88028 train_acc= 0.47138 val_loss= 1.56263 val_acc= 0.64529 time= 5.69977\n",
            "Epoch: 0423 train_loss= 1.89421 train_acc= 0.46305 val_loss= 1.56202 val_acc= 0.64957 time= 5.66989\n",
            "Epoch: 0424 train_loss= 1.89809 train_acc= 0.46414 val_loss= 1.56161 val_acc= 0.65157 time= 5.71130\n",
            "Epoch: 0425 train_loss= 1.88778 train_acc= 0.46571 val_loss= 1.56204 val_acc= 0.64600 time= 5.62664\n",
            "Epoch: 0426 train_loss= 1.88219 train_acc= 0.47048 val_loss= 1.56089 val_acc= 0.64400 time= 5.63163\n",
            "Epoch: 0427 train_loss= 1.88759 train_acc= 0.46624 val_loss= 1.55957 val_acc= 0.64214 time= 5.71927\n",
            "Epoch: 0428 train_loss= 1.89138 train_acc= 0.46562 val_loss= 1.55893 val_acc= 0.64314 time= 5.66115\n",
            "Epoch: 0429 train_loss= 1.88294 train_acc= 0.47114 val_loss= 1.55837 val_acc= 0.64571 time= 5.68641\n",
            "Epoch: 0430 train_loss= 1.88510 train_acc= 0.47219 val_loss= 1.55813 val_acc= 0.64657 time= 5.71297\n",
            "Epoch: 0431 train_loss= 1.89123 train_acc= 0.46310 val_loss= 1.55815 val_acc= 0.64686 time= 5.71504\n",
            "Epoch: 0432 train_loss= 1.88941 train_acc= 0.47057 val_loss= 1.55915 val_acc= 0.64571 time= 5.69766\n",
            "Epoch: 0433 train_loss= 1.88728 train_acc= 0.47205 val_loss= 1.55981 val_acc= 0.64514 time= 5.65347\n",
            "Epoch: 0434 train_loss= 1.88911 train_acc= 0.46695 val_loss= 1.56016 val_acc= 0.64657 time= 5.71066\n",
            "Epoch: 0435 train_loss= 1.89179 train_acc= 0.46876 val_loss= 1.55713 val_acc= 0.65329 time= 5.64478\n",
            "Epoch: 0436 train_loss= 1.88276 train_acc= 0.47148 val_loss= 1.55391 val_acc= 0.65486 time= 5.71575\n",
            "Epoch: 0437 train_loss= 1.88150 train_acc= 0.47314 val_loss= 1.55328 val_acc= 0.65143 time= 5.64357\n",
            "Epoch: 0438 train_loss= 1.88785 train_acc= 0.46671 val_loss= 1.55461 val_acc= 0.64143 time= 5.62318\n",
            "Epoch: 0439 train_loss= 1.88931 train_acc= 0.46743 val_loss= 1.55397 val_acc= 0.63914 time= 5.66858\n",
            "Epoch: 0440 train_loss= 1.87769 train_acc= 0.47029 val_loss= 1.55088 val_acc= 0.64571 time= 5.66103\n",
            "Epoch: 0441 train_loss= 1.88351 train_acc= 0.47152 val_loss= 1.54954 val_acc= 0.65100 time= 6.31799\n",
            "Epoch: 0442 train_loss= 1.88185 train_acc= 0.47291 val_loss= 1.54995 val_acc= 0.65129 time= 5.62257\n",
            "Epoch: 0443 train_loss= 1.88787 train_acc= 0.47276 val_loss= 1.55176 val_acc= 0.64729 time= 5.66869\n",
            "Epoch: 0444 train_loss= 1.88702 train_acc= 0.46733 val_loss= 1.55275 val_acc= 0.64400 time= 5.62649\n",
            "Epoch: 0445 train_loss= 1.88320 train_acc= 0.47010 val_loss= 1.55295 val_acc= 0.64400 time= 5.62853\n",
            "Epoch: 0446 train_loss= 1.87928 train_acc= 0.46833 val_loss= 1.55087 val_acc= 0.64800 time= 5.70317\n",
            "Epoch: 0447 train_loss= 1.87537 train_acc= 0.47276 val_loss= 1.54821 val_acc= 0.65257 time= 5.67913\n",
            "Epoch: 0448 train_loss= 1.88282 train_acc= 0.47329 val_loss= 1.54694 val_acc= 0.65386 time= 5.57094\n",
            "Epoch: 0449 train_loss= 1.86835 train_acc= 0.47433 val_loss= 1.54551 val_acc= 0.65286 time= 5.60281\n",
            "Epoch: 0450 train_loss= 1.88057 train_acc= 0.47181 val_loss= 1.54601 val_acc= 0.64657 time= 5.65737\n",
            "Epoch: 0451 train_loss= 1.87432 train_acc= 0.47200 val_loss= 1.54458 val_acc= 0.64500 time= 5.62539\n",
            "Epoch: 0452 train_loss= 1.88739 train_acc= 0.47014 val_loss= 1.54406 val_acc= 0.64543 time= 5.61059\n",
            "Epoch: 0453 train_loss= 1.87059 train_acc= 0.47310 val_loss= 1.54362 val_acc= 0.64829 time= 5.61619\n",
            "Epoch: 0454 train_loss= 1.88808 train_acc= 0.46967 val_loss= 1.54497 val_acc= 0.64843 time= 5.67549\n",
            "Epoch: 0455 train_loss= 1.86414 train_acc= 0.47871 val_loss= 1.54346 val_acc= 0.65414 time= 5.66450\n",
            "Epoch: 0456 train_loss= 1.88006 train_acc= 0.46967 val_loss= 1.54399 val_acc= 0.65157 time= 5.62362\n",
            "Epoch: 0457 train_loss= 1.86734 train_acc= 0.47824 val_loss= 1.54389 val_acc= 0.64886 time= 5.64218\n",
            "Epoch: 0458 train_loss= 1.87980 train_acc= 0.47462 val_loss= 1.54530 val_acc= 0.64657 time= 5.59981\n",
            "Epoch: 0459 train_loss= 1.85220 train_acc= 0.47810 val_loss= 1.54250 val_acc= 0.65157 time= 5.62743\n",
            "Epoch: 0460 train_loss= 1.87924 train_acc= 0.47248 val_loss= 1.54117 val_acc= 0.65500 time= 5.60027\n",
            "Epoch: 0461 train_loss= 1.88891 train_acc= 0.47133 val_loss= 1.54175 val_acc= 0.65600 time= 5.62020\n",
            "Epoch: 0462 train_loss= 1.87541 train_acc= 0.47291 val_loss= 1.54123 val_acc= 0.65586 time= 5.62281\n",
            "Epoch: 0463 train_loss= 1.86674 train_acc= 0.47567 val_loss= 1.53936 val_acc= 0.65286 time= 5.61196\n",
            "Epoch: 0464 train_loss= 1.86323 train_acc= 0.47867 val_loss= 1.53767 val_acc= 0.65343 time= 5.59960\n",
            "Epoch: 0465 train_loss= 1.87234 train_acc= 0.47319 val_loss= 1.53565 val_acc= 0.65529 time= 5.56842\n",
            "Epoch: 0466 train_loss= 1.87565 train_acc= 0.47348 val_loss= 1.53410 val_acc= 0.65629 time= 5.68917\n",
            "Epoch: 0467 train_loss= 1.86766 train_acc= 0.47676 val_loss= 1.53440 val_acc= 0.65443 time= 5.60013\n",
            "Epoch: 0468 train_loss= 1.86482 train_acc= 0.47491 val_loss= 1.53654 val_acc= 0.64886 time= 5.62476\n",
            "Epoch: 0469 train_loss= 1.87072 train_acc= 0.47105 val_loss= 1.53576 val_acc= 0.64786 time= 5.62075\n",
            "Epoch: 0470 train_loss= 1.87128 train_acc= 0.47376 val_loss= 1.53452 val_acc= 0.65443 time= 5.58948\n",
            "Epoch: 0471 train_loss= 1.86111 train_acc= 0.47848 val_loss= 1.53340 val_acc= 0.65971 time= 5.68039\n",
            "Epoch: 0472 train_loss= 1.86860 train_acc= 0.47591 val_loss= 1.53286 val_acc= 0.66100 time= 5.62790\n",
            "Epoch: 0473 train_loss= 1.86226 train_acc= 0.47738 val_loss= 1.53232 val_acc= 0.65971 time= 5.64083\n",
            "Epoch: 0474 train_loss= 1.85736 train_acc= 0.47495 val_loss= 1.53208 val_acc= 0.65443 time= 5.67243\n",
            "Epoch: 0475 train_loss= 1.86600 train_acc= 0.47267 val_loss= 1.53167 val_acc= 0.65200 time= 5.64817\n",
            "Epoch: 0476 train_loss= 1.85827 train_acc= 0.47971 val_loss= 1.52997 val_acc= 0.65771 time= 5.74335\n",
            "Epoch: 0477 train_loss= 1.85973 train_acc= 0.48010 val_loss= 1.52915 val_acc= 0.66286 time= 5.72270\n",
            "Epoch: 0478 train_loss= 1.87725 train_acc= 0.47424 val_loss= 1.53070 val_acc= 0.65743 time= 5.70305\n",
            "Epoch: 0479 train_loss= 1.87458 train_acc= 0.47391 val_loss= 1.53147 val_acc= 0.65343 time= 5.64158\n",
            "Epoch: 0480 train_loss= 1.87146 train_acc= 0.47476 val_loss= 1.53135 val_acc= 0.65143 time= 5.66838\n",
            "Epoch: 0481 train_loss= 1.87277 train_acc= 0.47810 val_loss= 1.52994 val_acc= 0.65429 time= 5.66586\n",
            "Epoch: 0482 train_loss= 1.85871 train_acc= 0.47833 val_loss= 1.52780 val_acc= 0.66029 time= 5.79113\n",
            "Epoch: 0483 train_loss= 1.85105 train_acc= 0.48129 val_loss= 1.52636 val_acc= 0.66400 time= 6.33022\n",
            "Epoch: 0484 train_loss= 1.85818 train_acc= 0.48124 val_loss= 1.52649 val_acc= 0.65943 time= 5.76306\n",
            "Epoch: 0485 train_loss= 1.85199 train_acc= 0.48005 val_loss= 1.52520 val_acc= 0.65657 time= 5.68659\n",
            "Epoch: 0486 train_loss= 1.85849 train_acc= 0.47962 val_loss= 1.52437 val_acc= 0.65829 time= 5.66091\n",
            "Epoch: 0487 train_loss= 1.85497 train_acc= 0.47819 val_loss= 1.52368 val_acc= 0.66171 time= 5.71596\n",
            "Epoch: 0488 train_loss= 1.85722 train_acc= 0.47600 val_loss= 1.52286 val_acc= 0.66600 time= 5.64982\n",
            "Epoch: 0489 train_loss= 1.86587 train_acc= 0.47857 val_loss= 1.52254 val_acc= 0.66500 time= 5.75184\n",
            "Epoch: 0490 train_loss= 1.85251 train_acc= 0.48329 val_loss= 1.52122 val_acc= 0.66329 time= 5.72565\n",
            "Epoch: 0491 train_loss= 1.85480 train_acc= 0.48005 val_loss= 1.52011 val_acc= 0.66057 time= 5.68269\n",
            "Epoch: 0492 train_loss= 1.86209 train_acc= 0.47700 val_loss= 1.52000 val_acc= 0.65900 time= 5.76272\n",
            "Epoch: 0493 train_loss= 1.84774 train_acc= 0.48471 val_loss= 1.51903 val_acc= 0.66143 time= 5.64726\n",
            "Epoch: 0494 train_loss= 1.84760 train_acc= 0.48395 val_loss= 1.51843 val_acc= 0.66529 time= 5.71036\n",
            "Epoch: 0495 train_loss= 1.85371 train_acc= 0.47814 val_loss= 1.51834 val_acc= 0.66557 time= 5.67286\n",
            "Epoch: 0496 train_loss= 1.84898 train_acc= 0.48414 val_loss= 1.51965 val_acc= 0.66157 time= 5.63997\n",
            "Epoch: 0497 train_loss= 1.84864 train_acc= 0.48129 val_loss= 1.52012 val_acc= 0.65743 time= 5.69082\n",
            "Epoch: 0498 train_loss= 1.85039 train_acc= 0.48148 val_loss= 1.51852 val_acc= 0.66100 time= 5.61300\n",
            "Epoch: 0499 train_loss= 1.85322 train_acc= 0.48086 val_loss= 1.51838 val_acc= 0.66329 time= 5.70847\n",
            "Epoch: 0500 train_loss= 1.84992 train_acc= 0.48443 val_loss= 1.51882 val_acc= 0.66771 time= 5.67921\n",
            "Epoch: 0501 train_loss= 1.84464 train_acc= 0.48257 val_loss= 1.51916 val_acc= 0.66900 time= 5.62048\n",
            "Epoch: 0502 train_loss= 1.85034 train_acc= 0.47952 val_loss= 1.51703 val_acc= 0.67100 time= 5.64820\n",
            "Epoch: 0503 train_loss= 1.83986 train_acc= 0.48705 val_loss= 1.51618 val_acc= 0.66286 time= 5.75036\n",
            "Epoch: 0504 train_loss= 1.84925 train_acc= 0.48062 val_loss= 1.51703 val_acc= 0.65414 time= 5.71778\n",
            "Epoch: 0505 train_loss= 1.84783 train_acc= 0.48305 val_loss= 1.51322 val_acc= 0.66157 time= 5.79625\n",
            "Epoch: 0506 train_loss= 1.84746 train_acc= 0.48414 val_loss= 1.51022 val_acc= 0.66686 time= 5.67834\n",
            "Epoch: 0507 train_loss= 1.84015 train_acc= 0.48724 val_loss= 1.50995 val_acc= 0.67143 time= 5.67509\n",
            "Epoch: 0508 train_loss= 1.84375 train_acc= 0.48624 val_loss= 1.51197 val_acc= 0.66800 time= 5.70833\n",
            "Epoch: 0509 train_loss= 1.84690 train_acc= 0.48619 val_loss= 1.51434 val_acc= 0.66357 time= 5.66040\n",
            "Epoch: 0510 train_loss= 1.83744 train_acc= 0.48133 val_loss= 1.51638 val_acc= 0.66029 time= 5.67405\n",
            "Epoch: 0511 train_loss= 1.84769 train_acc= 0.48405 val_loss= 1.51664 val_acc= 0.66200 time= 5.69379\n",
            "Epoch: 0512 train_loss= 1.83952 train_acc= 0.48448 val_loss= 1.51568 val_acc= 0.66714 time= 5.66983\n",
            "Epoch: 0513 train_loss= 1.83474 train_acc= 0.48486 val_loss= 1.51254 val_acc= 0.67300 time= 5.76450\n",
            "Epoch: 0514 train_loss= 1.83614 train_acc= 0.48919 val_loss= 1.50990 val_acc= 0.67600 time= 5.70227\n",
            "Epoch: 0515 train_loss= 1.84838 train_acc= 0.48391 val_loss= 1.51073 val_acc= 0.67071 time= 5.69832\n",
            "Epoch: 0516 train_loss= 1.83983 train_acc= 0.48619 val_loss= 1.51100 val_acc= 0.66971 time= 5.72140\n",
            "Epoch: 0517 train_loss= 1.83185 train_acc= 0.49062 val_loss= 1.51020 val_acc= 0.66914 time= 5.66680\n",
            "Epoch: 0518 train_loss= 1.83851 train_acc= 0.48857 val_loss= 1.50905 val_acc= 0.66714 time= 5.69293\n",
            "Epoch: 0519 train_loss= 1.84218 train_acc= 0.48695 val_loss= 1.50773 val_acc= 0.66986 time= 5.70987\n",
            "Epoch: 0520 train_loss= 1.84170 train_acc= 0.48800 val_loss= 1.50739 val_acc= 0.67086 time= 5.79450\n",
            "Epoch: 0521 train_loss= 1.83936 train_acc= 0.48776 val_loss= 1.50798 val_acc= 0.66814 time= 5.74212\n",
            "Epoch: 0522 train_loss= 1.83905 train_acc= 0.48629 val_loss= 1.50888 val_acc= 0.66586 time= 5.68667\n",
            "Epoch: 0523 train_loss= 1.85706 train_acc= 0.47933 val_loss= 1.51051 val_acc= 0.66800 time= 5.66993\n",
            "Epoch: 0524 train_loss= 1.83962 train_acc= 0.48567 val_loss= 1.51004 val_acc= 0.67100 time= 5.71999\n",
            "Epoch: 0525 train_loss= 1.83493 train_acc= 0.48871 val_loss= 1.50981 val_acc= 0.67286 time= 5.66908\n",
            "Epoch: 0526 train_loss= 1.82495 train_acc= 0.49552 val_loss= 1.50772 val_acc= 0.67214 time= 5.82042\n",
            "Epoch: 0527 train_loss= 1.83303 train_acc= 0.49357 val_loss= 1.50597 val_acc= 0.66829 time= 5.68889\n",
            "Epoch: 0528 train_loss= 1.84225 train_acc= 0.48757 val_loss= 1.50618 val_acc= 0.66671 time= 5.68047\n",
            "Epoch: 0529 train_loss= 1.83122 train_acc= 0.48895 val_loss= 1.50470 val_acc= 0.66886 time= 5.73743\n",
            "Epoch: 0530 train_loss= 1.83840 train_acc= 0.48857 val_loss= 1.50268 val_acc= 0.67386 time= 5.64535\n",
            "Epoch: 0531 train_loss= 1.82779 train_acc= 0.48800 val_loss= 1.50213 val_acc= 0.67686 time= 5.72563\n",
            "Epoch: 0532 train_loss= 1.83698 train_acc= 0.48795 val_loss= 1.50320 val_acc= 0.67671 time= 5.66766\n",
            "Epoch: 0533 train_loss= 1.83472 train_acc= 0.48738 val_loss= 1.50431 val_acc= 0.66914 time= 5.69606\n",
            "Epoch: 0534 train_loss= 1.83313 train_acc= 0.48729 val_loss= 1.50426 val_acc= 0.66729 time= 5.71510\n",
            "Epoch: 0535 train_loss= 1.83075 train_acc= 0.49000 val_loss= 1.50241 val_acc= 0.67071 time= 5.70160\n",
            "Epoch: 0536 train_loss= 1.83602 train_acc= 0.48652 val_loss= 1.50193 val_acc= 0.67500 time= 5.69654\n",
            "Epoch: 0537 train_loss= 1.82688 train_acc= 0.49210 val_loss= 1.50073 val_acc= 0.67729 time= 5.70323\n",
            "Epoch: 0538 train_loss= 1.83159 train_acc= 0.49024 val_loss= 1.50068 val_acc= 0.67743 time= 5.70365\n",
            "Epoch: 0539 train_loss= 1.84584 train_acc= 0.48595 val_loss= 1.50173 val_acc= 0.67557 time= 5.69295\n",
            "Epoch: 0540 train_loss= 1.83198 train_acc= 0.49105 val_loss= 1.50321 val_acc= 0.66986 time= 5.70098\n",
            "Epoch: 0541 train_loss= 1.83604 train_acc= 0.49110 val_loss= 1.50280 val_acc= 0.66957 time= 5.80427\n",
            "Epoch: 0542 train_loss= 1.83740 train_acc= 0.48695 val_loss= 1.50169 val_acc= 0.67271 time= 5.71909\n",
            "Epoch: 0543 train_loss= 1.83577 train_acc= 0.48910 val_loss= 1.49974 val_acc= 0.67843 time= 5.71907\n",
            "Epoch: 0544 train_loss= 1.83458 train_acc= 0.49095 val_loss= 1.49898 val_acc= 0.67914 time= 5.66093\n",
            "Epoch: 0545 train_loss= 1.83725 train_acc= 0.48943 val_loss= 1.49974 val_acc= 0.67514 time= 5.64229\n",
            "Epoch: 0546 train_loss= 1.83293 train_acc= 0.49600 val_loss= 1.50022 val_acc= 0.67486 time= 5.62497\n",
            "Epoch: 0547 train_loss= 1.82820 train_acc= 0.49133 val_loss= 1.50170 val_acc= 0.67271 time= 5.62956\n",
            "Epoch: 0548 train_loss= 1.82451 train_acc= 0.49205 val_loss= 1.50189 val_acc= 0.67171 time= 5.59583\n",
            "Epoch: 0549 train_loss= 1.83778 train_acc= 0.48805 val_loss= 1.50177 val_acc= 0.67343 time= 5.64883\n",
            "Epoch: 0550 train_loss= 1.82421 train_acc= 0.49343 val_loss= 1.49834 val_acc= 0.67557 time= 5.61265\n",
            "Epoch: 0551 train_loss= 1.84113 train_acc= 0.48476 val_loss= 1.49861 val_acc= 0.67271 time= 5.60366\n",
            "Epoch: 0552 train_loss= 1.82007 train_acc= 0.49024 val_loss= 1.49871 val_acc= 0.67329 time= 5.70285\n",
            "Epoch: 0553 train_loss= 1.81939 train_acc= 0.49452 val_loss= 1.49822 val_acc= 0.67357 time= 5.63707\n",
            "Epoch: 0554 train_loss= 1.82664 train_acc= 0.49105 val_loss= 1.49586 val_acc= 0.67714 time= 5.62524\n",
            "Epoch: 0555 train_loss= 1.83286 train_acc= 0.49000 val_loss= 1.49560 val_acc= 0.67829 time= 5.61636\n",
            "Epoch: 0556 train_loss= 1.81958 train_acc= 0.49386 val_loss= 1.49639 val_acc= 0.67843 time= 5.65962\n",
            "Epoch: 0557 train_loss= 1.81328 train_acc= 0.49733 val_loss= 1.49666 val_acc= 0.67471 time= 5.65051\n",
            "Epoch: 0558 train_loss= 1.81658 train_acc= 0.49519 val_loss= 1.49555 val_acc= 0.67129 time= 5.75804\n",
            "Epoch: 0559 train_loss= 1.82630 train_acc= 0.49367 val_loss= 1.49387 val_acc= 0.67400 time= 5.66642\n",
            "Epoch: 0560 train_loss= 1.82215 train_acc= 0.49238 val_loss= 1.49366 val_acc= 0.67643 time= 5.62008\n",
            "Epoch: 0561 train_loss= 1.81414 train_acc= 0.49919 val_loss= 1.49420 val_acc= 0.67771 time= 5.81586\n",
            "Epoch: 0562 train_loss= 1.81998 train_acc= 0.49510 val_loss= 1.49435 val_acc= 0.68071 time= 5.71288\n",
            "Epoch: 0563 train_loss= 1.81256 train_acc= 0.49324 val_loss= 1.49280 val_acc= 0.67686 time= 5.75126\n",
            "Epoch: 0564 train_loss= 1.81081 train_acc= 0.49857 val_loss= 1.49147 val_acc= 0.67643 time= 5.64921\n",
            "Epoch: 0565 train_loss= 1.82139 train_acc= 0.49476 val_loss= 1.49197 val_acc= 0.67514 time= 5.67432\n",
            "Epoch: 0566 train_loss= 1.81303 train_acc= 0.49614 val_loss= 1.49109 val_acc= 0.67871 time= 5.70789\n",
            "Epoch: 0567 train_loss= 1.81913 train_acc= 0.49538 val_loss= 1.49008 val_acc= 0.68500 time= 5.63623\n",
            "Epoch: 0568 train_loss= 1.81193 train_acc= 0.49771 val_loss= 1.49100 val_acc= 0.68229 time= 5.70858\n",
            "Epoch: 0569 train_loss= 1.82439 train_acc= 0.49319 val_loss= 1.49427 val_acc= 0.67200 time= 5.61362\n",
            "Epoch: 0570 train_loss= 1.81934 train_acc= 0.49214 val_loss= 1.49344 val_acc= 0.67600 time= 5.71276\n",
            "Epoch: 0571 train_loss= 1.82061 train_acc= 0.49357 val_loss= 1.49266 val_acc= 0.67943 time= 5.64338\n",
            "Epoch: 0572 train_loss= 1.81339 train_acc= 0.49624 val_loss= 1.49235 val_acc= 0.68014 time= 5.66696\n",
            "Epoch: 0573 train_loss= 1.81435 train_acc= 0.49767 val_loss= 1.49281 val_acc= 0.67843 time= 5.65430\n",
            "Epoch: 0574 train_loss= 1.81238 train_acc= 0.49652 val_loss= 1.49297 val_acc= 0.67986 time= 5.65432\n",
            "Epoch: 0575 train_loss= 1.82216 train_acc= 0.49291 val_loss= 1.49408 val_acc= 0.67714 time= 5.64087\n",
            "Epoch: 0576 train_loss= 1.80891 train_acc= 0.49771 val_loss= 1.49450 val_acc= 0.67614 time= 5.70280\n",
            "Epoch: 0577 train_loss= 1.81549 train_acc= 0.49357 val_loss= 1.49324 val_acc= 0.67829 time= 5.71415\n",
            "Epoch: 0578 train_loss= 1.82275 train_acc= 0.49433 val_loss= 1.49283 val_acc= 0.68286 time= 5.68683\n",
            "Epoch: 0579 train_loss= 1.81602 train_acc= 0.49805 val_loss= 1.49050 val_acc= 0.68400 time= 5.75139\n",
            "Epoch: 0580 train_loss= 1.79915 train_acc= 0.50214 val_loss= 1.48893 val_acc= 0.68157 time= 5.67934\n",
            "Epoch: 0581 train_loss= 1.81303 train_acc= 0.49638 val_loss= 1.48791 val_acc= 0.67686 time= 5.65162\n",
            "Epoch: 0582 train_loss= 1.80826 train_acc= 0.50043 val_loss= 1.48753 val_acc= 0.67714 time= 5.67607\n",
            "Epoch: 0583 train_loss= 1.81115 train_acc= 0.49295 val_loss= 1.48377 val_acc= 0.68071 time= 5.62604\n",
            "Epoch: 0584 train_loss= 1.80146 train_acc= 0.49857 val_loss= 1.48265 val_acc= 0.68543 time= 5.72335\n",
            "Epoch: 0585 train_loss= 1.80459 train_acc= 0.49814 val_loss= 1.48344 val_acc= 0.68157 time= 5.68286\n",
            "Epoch: 0586 train_loss= 1.80883 train_acc= 0.49876 val_loss= 1.48748 val_acc= 0.67943 time= 5.70899\n",
            "Epoch: 0587 train_loss= 1.81009 train_acc= 0.49857 val_loss= 1.48756 val_acc= 0.68171 time= 5.77398\n",
            "Epoch: 0588 train_loss= 1.81161 train_acc= 0.49729 val_loss= 1.48966 val_acc= 0.67986 time= 5.68072\n",
            "Epoch: 0589 train_loss= 1.81317 train_acc= 0.49448 val_loss= 1.49260 val_acc= 0.67886 time= 5.75024\n",
            "Epoch: 0590 train_loss= 1.80125 train_acc= 0.50052 val_loss= 1.49444 val_acc= 0.67657 time= 5.76186\n",
            "Epoch: 0591 train_loss= 1.79814 train_acc= 0.49938 val_loss= 1.48951 val_acc= 0.67829 time= 5.74583\n",
            "Epoch: 0592 train_loss= 1.80738 train_acc= 0.49852 val_loss= 1.48602 val_acc= 0.68386 time= 5.69682\n",
            "Epoch: 0593 train_loss= 1.79507 train_acc= 0.50510 val_loss= 1.48242 val_acc= 0.68514 time= 5.65450\n",
            "Epoch: 0594 train_loss= 1.81424 train_acc= 0.49605 val_loss= 1.48051 val_acc= 0.68700 time= 5.72735\n",
            "Epoch: 0595 train_loss= 1.79181 train_acc= 0.50452 val_loss= 1.47885 val_acc= 0.68429 time= 5.69737\n",
            "Epoch: 0596 train_loss= 1.80908 train_acc= 0.49957 val_loss= 1.48052 val_acc= 0.68186 time= 5.67612\n",
            "Epoch: 0597 train_loss= 1.79951 train_acc= 0.50091 val_loss= 1.48219 val_acc= 0.68243 time= 5.72002\n",
            "Epoch: 0598 train_loss= 1.79885 train_acc= 0.50114 val_loss= 1.48402 val_acc= 0.68343 time= 5.70749\n",
            "Epoch: 0599 train_loss= 1.81004 train_acc= 0.49514 val_loss= 1.48463 val_acc= 0.68843 time= 5.72070\n",
            "Epoch: 0600 train_loss= 1.80447 train_acc= 0.49810 val_loss= 1.48578 val_acc= 0.68743 time= 5.69730\n",
            "Epoch: 0601 train_loss= 1.80077 train_acc= 0.50105 val_loss= 1.48631 val_acc= 0.68486 time= 5.71836\n",
            "Epoch: 0602 train_loss= 1.79782 train_acc= 0.49714 val_loss= 1.48684 val_acc= 0.68129 time= 5.64321\n",
            "Epoch: 0603 train_loss= 1.79460 train_acc= 0.50067 val_loss= 1.48545 val_acc= 0.68186 time= 5.71943\n",
            "Epoch: 0604 train_loss= 1.80301 train_acc= 0.49848 val_loss= 1.48394 val_acc= 0.68386 time= 5.68355\n",
            "Epoch: 0605 train_loss= 1.79443 train_acc= 0.50543 val_loss= 1.48347 val_acc= 0.68600 time= 5.74690\n",
            "Epoch: 0606 train_loss= 1.80267 train_acc= 0.50071 val_loss= 1.48302 val_acc= 0.68829 time= 5.70180\n",
            "Epoch: 0607 train_loss= 1.80223 train_acc= 0.49971 val_loss= 1.48211 val_acc= 0.69014 time= 5.67434\n",
            "Epoch: 0608 train_loss= 1.80470 train_acc= 0.50286 val_loss= 1.48217 val_acc= 0.68957 time= 5.68453\n",
            "Epoch: 0609 train_loss= 1.80178 train_acc= 0.49919 val_loss= 1.48286 val_acc= 0.68614 time= 5.61174\n",
            "Epoch: 0610 train_loss= 1.80363 train_acc= 0.50110 val_loss= 1.48336 val_acc= 0.68471 time= 5.70809\n",
            "Epoch: 0611 train_loss= 1.80144 train_acc= 0.50133 val_loss= 1.48265 val_acc= 0.68671 time= 5.60945\n",
            "Epoch: 0612 train_loss= 1.78436 train_acc= 0.50676 val_loss= 1.48204 val_acc= 0.69029 time= 5.65559\n",
            "Epoch: 0613 train_loss= 1.79898 train_acc= 0.50005 val_loss= 1.48224 val_acc= 0.68929 time= 5.70981\n",
            "Epoch: 0614 train_loss= 1.79549 train_acc= 0.50271 val_loss= 1.48455 val_acc= 0.68314 time= 5.60560\n",
            "Epoch: 0615 train_loss= 1.79392 train_acc= 0.50319 val_loss= 1.48482 val_acc= 0.68071 time= 5.67852\n",
            "Epoch: 0616 train_loss= 1.80597 train_acc= 0.49819 val_loss= 1.48417 val_acc= 0.68414 time= 5.66139\n",
            "Epoch: 0617 train_loss= 1.79552 train_acc= 0.50143 val_loss= 1.48225 val_acc= 0.68743 time= 5.64911\n",
            "Epoch: 0618 train_loss= 1.81040 train_acc= 0.49681 val_loss= 1.48132 val_acc= 0.68714 time= 5.64733\n",
            "Epoch: 0619 train_loss= 1.79465 train_acc= 0.50167 val_loss= 1.48158 val_acc= 0.68571 time= 5.69539\n",
            "Epoch: 0620 train_loss= 1.78466 train_acc= 0.50419 val_loss= 1.48090 val_acc= 0.68714 time= 5.66917\n",
            "Epoch: 0621 train_loss= 1.78196 train_acc= 0.50438 val_loss= 1.48003 val_acc= 0.68986 time= 5.71649\n",
            "Epoch: 0622 train_loss= 1.78334 train_acc= 0.50681 val_loss= 1.47911 val_acc= 0.69071 time= 5.70552\n",
            "Epoch: 0623 train_loss= 1.78485 train_acc= 0.50543 val_loss= 1.47749 val_acc= 0.69086 time= 5.66791\n",
            "Epoch: 0624 train_loss= 1.79052 train_acc= 0.50286 val_loss= 1.47622 val_acc= 0.68657 time= 5.73130\n",
            "Epoch: 0625 train_loss= 1.78037 train_acc= 0.50871 val_loss= 1.47420 val_acc= 0.68557 time= 5.68512\n",
            "Epoch: 0626 train_loss= 1.79557 train_acc= 0.50129 val_loss= 1.47330 val_acc= 0.68586 time= 5.70612\n",
            "Epoch: 0627 train_loss= 1.78656 train_acc= 0.50586 val_loss= 1.47382 val_acc= 0.68786 time= 5.64096\n",
            "Epoch: 0628 train_loss= 1.78508 train_acc= 0.50571 val_loss= 1.47518 val_acc= 0.68829 time= 5.67578\n",
            "Epoch: 0629 train_loss= 1.78753 train_acc= 0.50671 val_loss= 1.47616 val_acc= 0.68743 time= 5.66480\n",
            "Epoch: 0630 train_loss= 1.79631 train_acc= 0.50271 val_loss= 1.47852 val_acc= 0.68414 time= 5.61476\n",
            "Epoch: 0631 train_loss= 1.78876 train_acc= 0.50638 val_loss= 1.48020 val_acc= 0.68657 time= 5.66480\n",
            "Epoch: 0632 train_loss= 1.78220 train_acc= 0.50505 val_loss= 1.48074 val_acc= 0.68929 time= 5.64073\n",
            "Epoch: 0633 train_loss= 1.79047 train_acc= 0.50110 val_loss= 1.48109 val_acc= 0.69129 time= 5.66214\n",
            "Epoch: 0634 train_loss= 1.77852 train_acc= 0.50724 val_loss= 1.48149 val_acc= 0.68886 time= 5.65128\n",
            "Epoch: 0635 train_loss= 1.78723 train_acc= 0.50705 val_loss= 1.48137 val_acc= 0.68771 time= 5.64391\n",
            "Epoch: 0636 train_loss= 1.79340 train_acc= 0.49933 val_loss= 1.48130 val_acc= 0.68800 time= 5.63064\n",
            "Epoch: 0637 train_loss= 1.78295 train_acc= 0.50700 val_loss= 1.47897 val_acc= 0.69129 time= 5.69535\n",
            "Epoch: 0638 train_loss= 1.78812 train_acc= 0.50419 val_loss= 1.47750 val_acc= 0.68971 time= 5.65890\n",
            "Epoch: 0639 train_loss= 1.77685 train_acc= 0.50748 val_loss= 1.47720 val_acc= 0.68514 time= 5.64023\n",
            "Epoch: 0640 train_loss= 1.77251 train_acc= 0.50910 val_loss= 1.47610 val_acc= 0.68657 time= 5.71281\n",
            "Epoch: 0641 train_loss= 1.79332 train_acc= 0.50081 val_loss= 1.47629 val_acc= 0.68786 time= 5.66216\n",
            "Epoch: 0642 train_loss= 1.77322 train_acc= 0.50948 val_loss= 1.47449 val_acc= 0.69214 time= 5.69620\n",
            "Epoch: 0643 train_loss= 1.80274 train_acc= 0.50191 val_loss= 1.47683 val_acc= 0.69200 time= 5.67541\n",
            "Epoch: 0644 train_loss= 1.79312 train_acc= 0.50362 val_loss= 1.48147 val_acc= 0.69229 time= 5.67081\n",
            "Epoch: 0645 train_loss= 1.78023 train_acc= 0.50662 val_loss= 1.48611 val_acc= 0.68529 time= 5.66872\n",
            "Epoch: 0646 train_loss= 1.77724 train_acc= 0.50614 val_loss= 1.48446 val_acc= 0.68500 time= 5.63830\n",
            "Epoch: 0647 train_loss= 1.77612 train_acc= 0.50557 val_loss= 1.48109 val_acc= 0.68857 time= 5.76788\n",
            "Epoch: 0648 train_loss= 1.78161 train_acc= 0.50629 val_loss= 1.47850 val_acc= 0.69014 time= 5.71412\n",
            "Epoch: 0649 train_loss= 1.77751 train_acc= 0.50505 val_loss= 1.47598 val_acc= 0.69014 time= 5.67351\n",
            "Epoch: 0650 train_loss= 1.79093 train_acc= 0.50219 val_loss= 1.47468 val_acc= 0.69029 time= 5.74282\n",
            "Epoch: 0651 train_loss= 1.78453 train_acc= 0.50510 val_loss= 1.47505 val_acc= 0.69029 time= 5.67428\n",
            "Epoch: 0652 train_loss= 1.78676 train_acc= 0.50443 val_loss= 1.47684 val_acc= 0.69343 time= 5.65787\n",
            "Epoch: 0653 train_loss= 1.76434 train_acc= 0.51605 val_loss= 1.47675 val_acc= 0.69657 time= 5.67663\n",
            "Epoch: 0654 train_loss= 1.78675 train_acc= 0.50114 val_loss= 1.47670 val_acc= 0.69400 time= 5.66623\n",
            "Epoch: 0655 train_loss= 1.77153 train_acc= 0.51043 val_loss= 1.47721 val_acc= 0.68829 time= 5.74739\n",
            "Epoch: 0656 train_loss= 1.75284 train_acc= 0.51281 val_loss= 1.47409 val_acc= 0.69271 time= 5.74811\n",
            "Epoch: 0657 train_loss= 1.75972 train_acc= 0.51371 val_loss= 1.47096 val_acc= 0.69514 time= 5.69269\n",
            "Epoch: 0658 train_loss= 1.78257 train_acc= 0.51129 val_loss= 1.47036 val_acc= 0.69471 time= 5.67730\n",
            "Epoch: 0659 train_loss= 1.77402 train_acc= 0.50452 val_loss= 1.47172 val_acc= 0.69157 time= 5.66790\n",
            "Epoch: 0660 train_loss= 1.75920 train_acc= 0.51086 val_loss= 1.47295 val_acc= 0.69057 time= 5.62692\n",
            "Epoch: 0661 train_loss= 1.77761 train_acc= 0.50924 val_loss= 1.47396 val_acc= 0.69029 time= 5.74811\n",
            "Epoch: 0662 train_loss= 1.76156 train_acc= 0.51462 val_loss= 1.47251 val_acc= 0.69500 time= 5.65132\n",
            "Epoch: 0663 train_loss= 1.77344 train_acc= 0.51000 val_loss= 1.47231 val_acc= 0.69871 time= 5.69137\n",
            "Epoch: 0664 train_loss= 1.76053 train_acc= 0.51552 val_loss= 1.47223 val_acc= 0.69600 time= 5.69947\n",
            "Epoch: 0665 train_loss= 1.77185 train_acc= 0.51314 val_loss= 1.47326 val_acc= 0.69129 time= 5.66780\n",
            "Epoch: 0666 train_loss= 1.75896 train_acc= 0.51786 val_loss= 1.47310 val_acc= 0.68971 time= 5.66901\n",
            "Epoch: 0667 train_loss= 1.77783 train_acc= 0.50452 val_loss= 1.47436 val_acc= 0.69400 time= 5.61556\n",
            "Epoch: 0668 train_loss= 1.76762 train_acc= 0.51205 val_loss= 1.47591 val_acc= 0.69529 time= 5.68902\n",
            "Epoch: 0669 train_loss= 1.75571 train_acc= 0.51124 val_loss= 1.47559 val_acc= 0.69086 time= 5.64902\n",
            "Epoch: 0670 train_loss= 1.77110 train_acc= 0.50662 val_loss= 1.47486 val_acc= 0.68814 time= 5.70309\n",
            "Epoch: 0671 train_loss= 1.76941 train_acc= 0.50895 val_loss= 1.47385 val_acc= 0.69157 time= 5.73827\n",
            "Epoch: 0672 train_loss= 1.77196 train_acc= 0.51171 val_loss= 1.47294 val_acc= 0.69471 time= 5.71466\n",
            "Epoch: 0673 train_loss= 1.77014 train_acc= 0.51205 val_loss= 1.47093 val_acc= 0.69957 time= 5.67159\n",
            "Epoch: 0674 train_loss= 1.76160 train_acc= 0.51433 val_loss= 1.47064 val_acc= 0.69671 time= 5.66344\n",
            "Epoch: 0675 train_loss= 1.76338 train_acc= 0.51276 val_loss= 1.47222 val_acc= 0.68386 time= 5.63584\n",
            "Epoch: 0676 train_loss= 1.78211 train_acc= 0.50257 val_loss= 1.47393 val_acc= 0.68200 time= 5.64331\n",
            "Epoch: 0677 train_loss= 1.75949 train_acc= 0.51157 val_loss= 1.47169 val_acc= 0.69157 time= 5.67081\n",
            "Epoch: 0678 train_loss= 1.76055 train_acc= 0.51400 val_loss= 1.47217 val_acc= 0.69786 time= 5.61000\n",
            "Epoch: 0679 train_loss= 1.77376 train_acc= 0.50867 val_loss= 1.47455 val_acc= 0.69729 time= 5.66055\n",
            "Epoch: 0680 train_loss= 1.75408 train_acc= 0.51767 val_loss= 1.47619 val_acc= 0.69214 time= 5.62545\n",
            "Epoch: 0681 train_loss= 1.75249 train_acc= 0.51548 val_loss= 1.47371 val_acc= 0.69343 time= 5.64096\n",
            "Epoch: 0682 train_loss= 1.75641 train_acc= 0.51329 val_loss= 1.47150 val_acc= 0.69600 time= 5.67426\n",
            "Epoch: 0683 train_loss= 1.76031 train_acc= 0.51795 val_loss= 1.47049 val_acc= 0.69929 time= 5.63045\n",
            "Epoch: 0684 train_loss= 1.74997 train_acc= 0.51505 val_loss= 1.46924 val_acc= 0.69686 time= 5.67123\n",
            "Epoch: 0685 train_loss= 1.75596 train_acc= 0.51443 val_loss= 1.46838 val_acc= 0.69157 time= 5.68440\n",
            "Epoch: 0686 train_loss= 1.75799 train_acc= 0.51519 val_loss= 1.46733 val_acc= 0.69414 time= 5.64653\n",
            "Epoch: 0687 train_loss= 1.75101 train_acc= 0.51510 val_loss= 1.46645 val_acc= 0.70071 time= 5.64886\n",
            "Epoch: 0688 train_loss= 1.77372 train_acc= 0.51095 val_loss= 1.46902 val_acc= 0.69914 time= 5.62214\n",
            "Epoch: 0689 train_loss= 1.76628 train_acc= 0.51205 val_loss= 1.47176 val_acc= 0.69457 time= 5.67509\n",
            "Epoch: 0690 train_loss= 1.75896 train_acc= 0.51271 val_loss= 1.47260 val_acc= 0.69229 time= 5.66826\n",
            "Epoch: 0691 train_loss= 1.75038 train_acc= 0.51552 val_loss= 1.47356 val_acc= 0.69357 time= 5.65933\n",
            "Epoch: 0692 train_loss= 1.74881 train_acc= 0.52024 val_loss= 1.47360 val_acc= 0.69786 time= 5.61925\n",
            "Epoch: 0693 train_loss= 1.75121 train_acc= 0.51729 val_loss= 1.47201 val_acc= 0.69671 time= 5.66849\n",
            "Epoch: 0694 train_loss= 1.74691 train_acc= 0.51800 val_loss= 1.46929 val_acc= 0.69400 time= 5.64960\n",
            "Epoch: 0695 train_loss= 1.76387 train_acc= 0.51267 val_loss= 1.46801 val_acc= 0.69329 time= 5.67965\n",
            "Epoch: 0696 train_loss= 1.75345 train_acc= 0.51548 val_loss= 1.46687 val_acc= 0.69829 time= 5.64207\n",
            "Epoch: 0697 train_loss= 1.75491 train_acc= 0.51643 val_loss= 1.46766 val_acc= 0.69471 time= 5.61737\n",
            "Epoch: 0698 train_loss= 1.75345 train_acc= 0.51662 val_loss= 1.46951 val_acc= 0.69371 time= 5.63043\n",
            "Epoch: 0699 train_loss= 1.76221 train_acc= 0.50991 val_loss= 1.47417 val_acc= 0.68943 time= 5.62603\n",
            "Epoch: 0700 train_loss= 1.75471 train_acc= 0.51633 val_loss= 1.47514 val_acc= 0.69429 time= 5.66657\n",
            "Epoch: 0701 train_loss= 1.74723 train_acc= 0.51562 val_loss= 1.47483 val_acc= 0.69929 time= 5.62265\n",
            "Epoch: 0702 train_loss= 1.76509 train_acc= 0.51562 val_loss= 1.47442 val_acc= 0.69886 time= 5.63451\n",
            "Epoch: 0703 train_loss= 1.74197 train_acc= 0.51995 val_loss= 1.47294 val_acc= 0.69186 time= 5.61834\n",
            "Epoch: 0704 train_loss= 1.75669 train_acc= 0.51567 val_loss= 1.47082 val_acc= 0.68886 time= 5.61381\n",
            "Epoch: 0705 train_loss= 1.75075 train_acc= 0.52038 val_loss= 1.46754 val_acc= 0.69443 time= 5.62753\n",
            "Epoch: 0706 train_loss= 1.73763 train_acc= 0.52100 val_loss= 1.46541 val_acc= 0.69986 time= 5.60008\n",
            "Epoch: 0707 train_loss= 1.74922 train_acc= 0.51586 val_loss= 1.46464 val_acc= 0.70100 time= 5.61082\n",
            "Epoch: 0708 train_loss= 1.75235 train_acc= 0.51471 val_loss= 1.46515 val_acc= 0.69771 time= 5.59888\n",
            "Epoch: 0709 train_loss= 1.74516 train_acc= 0.51757 val_loss= 1.46677 val_acc= 0.69586 time= 5.66290\n",
            "Epoch: 0710 train_loss= 1.74369 train_acc= 0.52048 val_loss= 1.46709 val_acc= 0.70257 time= 5.59912\n",
            "Epoch: 0711 train_loss= 1.73595 train_acc= 0.52238 val_loss= 1.46750 val_acc= 0.70271 time= 5.61552\n",
            "Epoch: 0712 train_loss= 1.73117 train_acc= 0.52362 val_loss= 1.46719 val_acc= 0.69886 time= 5.65166\n",
            "Epoch: 0713 train_loss= 1.74701 train_acc= 0.51867 val_loss= 1.46746 val_acc= 0.69314 time= 5.57447\n",
            "Epoch: 0714 train_loss= 1.74983 train_acc= 0.51862 val_loss= 1.46822 val_acc= 0.69300 time= 5.67323\n",
            "Epoch: 0715 train_loss= 1.75823 train_acc= 0.51581 val_loss= 1.46948 val_acc= 0.70457 time= 5.59543\n",
            "Epoch: 0716 train_loss= 1.74445 train_acc= 0.52252 val_loss= 1.47148 val_acc= 0.70700 time= 5.58796\n",
            "Epoch: 0717 train_loss= 1.74377 train_acc= 0.52114 val_loss= 1.47313 val_acc= 0.70057 time= 5.62115\n",
            "Epoch: 0718 train_loss= 1.74303 train_acc= 0.51681 val_loss= 1.47561 val_acc= 0.68843 time= 5.60190\n",
            "Epoch: 0719 train_loss= 1.73316 train_acc= 0.52138 val_loss= 1.47440 val_acc= 0.69086 time= 5.58077\n",
            "Epoch: 0720 train_loss= 1.73482 train_acc= 0.52105 val_loss= 1.47098 val_acc= 0.70214 time= 5.64042\n",
            "Epoch: 0721 train_loss= 1.74283 train_acc= 0.51762 val_loss= 1.46992 val_acc= 0.70729 time= 5.61435\n",
            "Epoch: 0722 train_loss= 1.73721 train_acc= 0.52238 val_loss= 1.46799 val_acc= 0.70071 time= 5.65315\n",
            "Epoch: 0723 train_loss= 1.73579 train_acc= 0.52652 val_loss= 1.46736 val_acc= 0.69200 time= 5.60565\n",
            "Epoch: 0724 train_loss= 1.73498 train_acc= 0.51891 val_loss= 1.46519 val_acc= 0.69357 time= 5.59757\n",
            "Epoch: 0725 train_loss= 1.74130 train_acc= 0.52076 val_loss= 1.46270 val_acc= 0.70143 time= 5.66590\n",
            "Epoch: 0726 train_loss= 1.73823 train_acc= 0.52162 val_loss= 1.46124 val_acc= 0.70871 time= 5.61014\n",
            "Epoch: 0727 train_loss= 1.73412 train_acc= 0.52281 val_loss= 1.46067 val_acc= 0.70500 time= 5.63998\n",
            "Epoch: 0728 train_loss= 1.73519 train_acc= 0.52567 val_loss= 1.46231 val_acc= 0.69929 time= 5.57662\n",
            "Epoch: 0729 train_loss= 1.74502 train_acc= 0.52195 val_loss= 1.46659 val_acc= 0.69557 time= 5.62146\n",
            "Epoch: 0730 train_loss= 1.73127 train_acc= 0.52291 val_loss= 1.46962 val_acc= 0.69786 time= 5.64367\n",
            "Epoch: 0731 train_loss= 1.73135 train_acc= 0.52243 val_loss= 1.47159 val_acc= 0.70129 time= 5.64591\n",
            "Epoch: 0732 train_loss= 1.74031 train_acc= 0.51767 val_loss= 1.47480 val_acc= 0.69671 time= 5.67344\n",
            "Epoch: 0733 train_loss= 1.73655 train_acc= 0.52391 val_loss= 1.47668 val_acc= 0.69629 time= 5.65676\n",
            "Epoch: 0734 train_loss= 1.72734 train_acc= 0.52529 val_loss= 1.47468 val_acc= 0.69686 time= 5.62510\n",
            "Epoch: 0735 train_loss= 1.73260 train_acc= 0.52129 val_loss= 1.47202 val_acc= 0.69814 time= 5.63741\n",
            "Epoch: 0736 train_loss= 1.73095 train_acc= 0.52224 val_loss= 1.46962 val_acc= 0.69686 time= 5.64764\n",
            "Epoch: 0737 train_loss= 1.74080 train_acc= 0.52167 val_loss= 1.46813 val_acc= 0.69386 time= 5.58839\n",
            "Epoch: 0738 train_loss= 1.74522 train_acc= 0.51962 val_loss= 1.46805 val_acc= 0.69329 time= 5.62807\n",
            "Epoch: 0739 train_loss= 1.73132 train_acc= 0.52176 val_loss= 1.46775 val_acc= 0.69671 time= 5.61016\n",
            "Epoch: 0740 train_loss= 1.73038 train_acc= 0.52410 val_loss= 1.46803 val_acc= 0.70043 time= 5.58812\n",
            "Epoch: 0741 train_loss= 1.73677 train_acc= 0.51624 val_loss= 1.46958 val_acc= 0.70186 time= 5.56821\n",
            "Epoch: 0742 train_loss= 1.73455 train_acc= 0.52419 val_loss= 1.47057 val_acc= 0.70014 time= 5.57049\n",
            "Epoch: 0743 train_loss= 1.72755 train_acc= 0.52867 val_loss= 1.47075 val_acc= 0.70186 time= 5.60964\n",
            "Epoch: 0744 train_loss= 1.73861 train_acc= 0.51952 val_loss= 1.47085 val_acc= 0.70071 time= 5.62337\n",
            "Epoch: 0745 train_loss= 1.71768 train_acc= 0.52495 val_loss= 1.46961 val_acc= 0.70357 time= 5.56912\n",
            "Epoch: 0746 train_loss= 1.73131 train_acc= 0.52257 val_loss= 1.46889 val_acc= 0.70514 time= 5.62645\n",
            "Epoch: 0747 train_loss= 1.73474 train_acc= 0.52295 val_loss= 1.46936 val_acc= 0.70400 time= 5.55913\n",
            "Epoch: 0748 train_loss= 1.72985 train_acc= 0.52557 val_loss= 1.47013 val_acc= 0.69743 time= 5.57818\n",
            "Epoch: 0749 train_loss= 1.72194 train_acc= 0.52652 val_loss= 1.46982 val_acc= 0.69643 time= 5.58960\n",
            "Epoch: 0750 train_loss= 1.72601 train_acc= 0.52429 val_loss= 1.46926 val_acc= 0.69871 time= 5.56481\n",
            "Epoch: 0751 train_loss= 1.72692 train_acc= 0.52400 val_loss= 1.46831 val_acc= 0.70314 time= 5.61175\n",
            "Epoch: 0752 train_loss= 1.73164 train_acc= 0.52491 val_loss= 1.46831 val_acc= 0.70443 time= 5.62562\n",
            "Epoch: 0753 train_loss= 1.72432 train_acc= 0.52367 val_loss= 1.46847 val_acc= 0.70443 time= 5.64307\n",
            "Epoch: 0754 train_loss= 1.73020 train_acc= 0.52138 val_loss= 1.46833 val_acc= 0.70214 time= 5.64369\n",
            "Epoch: 0755 train_loss= 1.72776 train_acc= 0.52124 val_loss= 1.46956 val_acc= 0.70086 time= 5.62111\n",
            "Epoch: 0756 train_loss= 1.73053 train_acc= 0.52410 val_loss= 1.47168 val_acc= 0.69814 time= 5.61578\n",
            "Epoch: 0757 train_loss= 1.72406 train_acc= 0.52748 val_loss= 1.47187 val_acc= 0.69971 time= 5.59055\n",
            "Epoch: 0758 train_loss= 1.72424 train_acc= 0.52743 val_loss= 1.47210 val_acc= 0.70286 time= 5.63694\n",
            "Epoch: 0759 train_loss= 1.72911 train_acc= 0.52657 val_loss= 1.47283 val_acc= 0.70457 time= 5.58660\n",
            "Epoch: 0760 train_loss= 1.71129 train_acc= 0.53143 val_loss= 1.47275 val_acc= 0.70771 time= 5.59764\n",
            "Epoch: 0761 train_loss= 1.73743 train_acc= 0.51995 val_loss= 1.47232 val_acc= 0.70014 time= 5.61443\n",
            "Epoch: 0762 train_loss= 1.71569 train_acc= 0.52876 val_loss= 1.47068 val_acc= 0.69643 time= 5.63913\n",
            "Epoch: 0763 train_loss= 1.72868 train_acc= 0.52405 val_loss= 1.46998 val_acc= 0.69714 time= 5.59742\n",
            "Epoch: 0764 train_loss= 1.72151 train_acc= 0.52667 val_loss= 1.46981 val_acc= 0.70329 time= 5.64579\n",
            "Epoch: 0765 train_loss= 1.71697 train_acc= 0.52786 val_loss= 1.46824 val_acc= 0.70614 time= 5.58788\n",
            "Epoch: 0766 train_loss= 1.71603 train_acc= 0.52919 val_loss= 1.46552 val_acc= 0.70486 time= 5.62588\n",
            "Epoch: 0767 train_loss= 1.71894 train_acc= 0.52981 val_loss= 1.46554 val_acc= 0.69657 time= 5.64344\n",
            "Epoch: 0768 train_loss= 1.73345 train_acc= 0.52319 val_loss= 1.46816 val_acc= 0.69629 time= 5.60046\n",
            "Epoch: 0769 train_loss= 1.72062 train_acc= 0.52414 val_loss= 1.46945 val_acc= 0.70114 time= 5.61871\n",
            "Epoch: 0770 train_loss= 1.71999 train_acc= 0.52557 val_loss= 1.46811 val_acc= 0.70914 time= 5.57420\n",
            "Epoch: 0771 train_loss= 1.72315 train_acc= 0.52381 val_loss= 1.46887 val_acc= 0.70471 time= 5.60039\n",
            "Epoch: 0772 train_loss= 1.71728 train_acc= 0.52852 val_loss= 1.47127 val_acc= 0.69900 time= 5.58610\n",
            "Epoch: 0773 train_loss= 1.71237 train_acc= 0.53014 val_loss= 1.47010 val_acc= 0.70057 time= 5.63796\n",
            "Epoch: 0774 train_loss= 1.71592 train_acc= 0.52638 val_loss= 1.46665 val_acc= 0.70443 time= 5.60752\n",
            "Epoch: 0775 train_loss= 1.72073 train_acc= 0.52857 val_loss= 1.46630 val_acc= 0.70557 time= 5.63104\n",
            "Epoch: 0776 train_loss= 1.71491 train_acc= 0.53171 val_loss= 1.46741 val_acc= 0.70400 time= 5.63403\n",
            "Epoch: 0777 train_loss= 1.71133 train_acc= 0.52814 val_loss= 1.46956 val_acc= 0.69786 time= 5.55890\n",
            "Epoch: 0778 train_loss= 1.71173 train_acc= 0.52714 val_loss= 1.46815 val_acc= 0.69657 time= 5.62580\n",
            "Epoch: 0779 train_loss= 1.71515 train_acc= 0.52871 val_loss= 1.46860 val_acc= 0.70243 time= 5.55235\n",
            "Epoch: 0780 train_loss= 1.71510 train_acc= 0.53019 val_loss= 1.47183 val_acc= 0.70200 time= 5.66416\n",
            "Epoch: 0781 train_loss= 1.70055 train_acc= 0.53267 val_loss= 1.47540 val_acc= 0.69957 time= 5.64661\n",
            "Epoch: 0782 train_loss= 1.70395 train_acc= 0.53257 val_loss= 1.47378 val_acc= 0.69857 time= 5.63561\n",
            "Epoch: 0783 train_loss= 1.70271 train_acc= 0.53191 val_loss= 1.47176 val_acc= 0.69914 time= 5.60073\n",
            "Epoch: 0784 train_loss= 1.70895 train_acc= 0.53195 val_loss= 1.46952 val_acc= 0.70429 time= 5.62636\n",
            "Epoch: 0785 train_loss= 1.70481 train_acc= 0.52862 val_loss= 1.46873 val_acc= 0.70600 time= 5.59816\n",
            "Epoch: 0786 train_loss= 1.71443 train_acc= 0.52776 val_loss= 1.46612 val_acc= 0.70357 time= 5.60330\n",
            "Epoch: 0787 train_loss= 1.70781 train_acc= 0.52767 val_loss= 1.46456 val_acc= 0.69843 time= 5.58782\n",
            "Epoch: 0788 train_loss= 1.71547 train_acc= 0.52800 val_loss= 1.46671 val_acc= 0.69743 time= 5.58780\n",
            "Epoch: 0789 train_loss= 1.70808 train_acc= 0.53319 val_loss= 1.46941 val_acc= 0.70229 time= 5.64481\n",
            "Epoch: 0790 train_loss= 1.71801 train_acc= 0.52419 val_loss= 1.47220 val_acc= 0.70400 time= 5.61281\n",
            "Epoch: 0791 train_loss= 1.69070 train_acc= 0.53862 val_loss= 1.47162 val_acc= 0.70457 time= 5.59558\n",
            "Epoch: 0792 train_loss= 1.71630 train_acc= 0.53086 val_loss= 1.47203 val_acc= 0.70543 time= 5.61626\n",
            "Epoch: 0793 train_loss= 1.70880 train_acc= 0.52976 val_loss= 1.47209 val_acc= 0.70471 time= 5.64431\n",
            "Epoch: 0794 train_loss= 1.69998 train_acc= 0.53300 val_loss= 1.47185 val_acc= 0.70400 time= 5.59882\n",
            "Epoch: 0795 train_loss= 1.71475 train_acc= 0.52710 val_loss= 1.46929 val_acc= 0.70671 time= 5.60454\n",
            "Epoch: 0796 train_loss= 1.70926 train_acc= 0.53029 val_loss= 1.46826 val_acc= 0.70729 time= 5.59591\n",
            "Epoch: 0797 train_loss= 1.70140 train_acc= 0.53648 val_loss= 1.46789 val_acc= 0.70671 time= 5.61106\n",
            "Epoch: 0798 train_loss= 1.70461 train_acc= 0.53052 val_loss= 1.46788 val_acc= 0.70414 time= 5.65081\n",
            "Epoch: 0799 train_loss= 1.71469 train_acc= 0.52619 val_loss= 1.46718 val_acc= 0.70543 time= 5.58958\n",
            "Epoch: 0800 train_loss= 1.70014 train_acc= 0.53319 val_loss= 1.46569 val_acc= 0.70657 time= 5.60519\n",
            "Epoch: 0801 train_loss= 1.71204 train_acc= 0.52891 val_loss= 1.46652 val_acc= 0.70886 time= 5.66202\n",
            "Epoch: 0802 train_loss= 1.70449 train_acc= 0.53591 val_loss= 1.47002 val_acc= 0.70686 time= 5.60440\n",
            "Epoch: 0803 train_loss= 1.70280 train_acc= 0.53286 val_loss= 1.47085 val_acc= 0.70486 time= 5.62093\n",
            "Epoch: 0804 train_loss= 1.70300 train_acc= 0.53381 val_loss= 1.47111 val_acc= 0.70657 time= 5.58445\n",
            "Epoch: 0805 train_loss= 1.70066 train_acc= 0.53152 val_loss= 1.47122 val_acc= 0.70529 time= 5.61240\n",
            "Epoch: 0806 train_loss= 1.69815 train_acc= 0.53567 val_loss= 1.47188 val_acc= 0.70543 time= 5.60236\n",
            "Epoch: 0807 train_loss= 1.69055 train_acc= 0.53805 val_loss= 1.46889 val_acc= 0.70400 time= 5.62946\n",
            "Epoch: 0808 train_loss= 1.69539 train_acc= 0.53819 val_loss= 1.46412 val_acc= 0.70429 time= 5.61736\n",
            "Epoch: 0809 train_loss= 1.70714 train_acc= 0.52938 val_loss= 1.46222 val_acc= 0.70300 time= 5.55606\n",
            "Epoch: 0810 train_loss= 1.70976 train_acc= 0.53371 val_loss= 1.46263 val_acc= 0.70257 time= 5.59231\n",
            "Epoch: 0811 train_loss= 1.69758 train_acc= 0.53157 val_loss= 1.46479 val_acc= 0.70743 time= 5.61782\n",
            "Epoch: 0812 train_loss= 1.70950 train_acc= 0.53533 val_loss= 1.46885 val_acc= 0.70671 time= 5.59536\n",
            "Epoch: 0813 train_loss= 1.68840 train_acc= 0.53833 val_loss= 1.47286 val_acc= 0.70157 time= 5.60262\n",
            "Epoch: 0814 train_loss= 1.69545 train_acc= 0.53576 val_loss= 1.47555 val_acc= 0.69957 time= 5.58500\n",
            "Epoch: 0815 train_loss= 1.68975 train_acc= 0.53491 val_loss= 1.47548 val_acc= 0.70200 time= 5.60109\n",
            "Epoch: 0816 train_loss= 1.69512 train_acc= 0.53252 val_loss= 1.47450 val_acc= 0.70400 time= 5.59926\n",
            "Epoch: 0817 train_loss= 1.69688 train_acc= 0.53529 val_loss= 1.47260 val_acc= 0.70714 time= 5.60779\n",
            "Epoch: 0818 train_loss= 1.68020 train_acc= 0.54143 val_loss= 1.47044 val_acc= 0.70514 time= 5.61353\n",
            "Epoch: 0819 train_loss= 1.69625 train_acc= 0.53286 val_loss= 1.47061 val_acc= 0.70029 time= 5.63316\n",
            "Epoch: 0820 train_loss= 1.68819 train_acc= 0.53724 val_loss= 1.46651 val_acc= 0.70000 time= 5.59739\n",
            "Epoch: 0821 train_loss= 1.70155 train_acc= 0.53233 val_loss= 1.46370 val_acc= 0.70329 time= 5.66507\n",
            "Epoch: 0822 train_loss= 1.69716 train_acc= 0.53324 val_loss= 1.46314 val_acc= 0.71014 time= 5.61401\n",
            "Epoch: 0823 train_loss= 1.68441 train_acc= 0.53933 val_loss= 1.46469 val_acc= 0.70729 time= 5.65260\n",
            "Epoch: 0824 train_loss= 1.69561 train_acc= 0.52991 val_loss= 1.46476 val_acc= 0.70500 time= 5.62843\n",
            "Epoch: 0825 train_loss= 1.68764 train_acc= 0.53919 val_loss= 1.46665 val_acc= 0.70329 time= 5.60698\n",
            "Epoch: 0826 train_loss= 1.68086 train_acc= 0.53700 val_loss= 1.46859 val_acc= 0.70686 time= 5.61174\n",
            "Epoch: 0827 train_loss= 1.69351 train_acc= 0.53348 val_loss= 1.47293 val_acc= 0.70843 time= 5.61880\n",
            "Epoch: 0828 train_loss= 1.69068 train_acc= 0.53752 val_loss= 1.47445 val_acc= 0.70700 time= 5.60449\n",
            "Epoch: 0829 train_loss= 1.69434 train_acc= 0.53410 val_loss= 1.47687 val_acc= 0.70429 time= 5.60318\n",
            "Epoch: 0830 train_loss= 1.69208 train_acc= 0.53895 val_loss= 1.47843 val_acc= 0.70243 time= 5.59303\n",
            "Early stopping...\n",
            "Training completed!\n"
          ],
          "name": "stdout"
        }
      ]
    },
    {
      "cell_type": "code",
      "metadata": {
        "colab": {
          "base_uri": "https://localhost:8080/",
          "height": 374
        },
        "id": "BPI5hKwd_xf9",
        "outputId": "8f9713f1-9912-44f8-845a-4a5b8f7e399c"
      },
      "source": [
        "#Visualization of the training progress\n",
        "\n",
        "plt.figure(figsize=(8,6))\n",
        "plt.plot(train_accuracy,label = 'train_accuracy')\n",
        "plt.plot(train_loss,label = 'train_loss')\n",
        "plt.plot(validation_accuracy, label='validation_accuracy')\n",
        "plt.plot(validation_loss,label='validaton_loss')\n",
        "plt.legend(loc=1)\n",
        "axes = plt.gca()\n",
        "plt.savefig('gcn.svg', format='svg')\n",
        "plt.show()"
      ],
      "execution_count": null,
      "outputs": [
        {
          "output_type": "display_data",
          "data": {
            "image/png": "[encoded data removed]",
            "text/plain": [
              "<Figure size 576x432 with 1 Axes>"
            ]
          },
          "metadata": {
            "tags": [],
            "needs_background": "light"
          }
        }
      ]
    },
    {
      "cell_type": "code",
      "metadata": {
        "colab": {
          "base_uri": "https://localhost:8080/"
        },
        "id": "_84Jol-sD_Ai",
        "outputId": "f2e8cb44-6b4c-419b-a574-cdafd6a967a5"
      },
      "source": [
        "#Testing\n",
        "\n",
        "test_cost, test_acc, test_duration = evaluate(features, support, y_test, test_mask, placeholders)\n",
        "print(\"Test set results:\", \"cost=\", \"{:.5f}\".format(test_cost),\n",
        "      \"accuracy=\", \"{:.5f}\".format(test_acc), \"time=\", \"{:.5f}\".format(test_duration))"
      ],
      "execution_count": null,
      "outputs": [
        {
          "output_type": "stream",
          "text": [
            "Test set results: cost= 1.45158 accuracy= 0.71571 time= 1.96241\n"
          ],
          "name": "stdout"
        }
      ]
    },
    {
      "cell_type": "markdown",
      "metadata": {
        "id": "hXvj3cqTCJ81"
      },
      "source": [
        "## Observations\n",
        "\n",
        "The dataset is pretty limited and as observed also empirically, even if the structure of the network is extremely simple and this notebook has been developed only for educational purposes with reduced computational capabilities, it is possible to improve the model performances executing another training of the model on another dataset of the same size.\n",
        "\n",
        "*With more computational capabilities available is recomended  to use a bigger dataset since the very beginning.*"
      ]
    },
    {
      "cell_type": "code",
      "metadata": {
        "colab": {
          "base_uri": "https://localhost:8080/"
        },
        "id": "OCvwbzr9AIyG",
        "outputId": "061371bd-16e9-4ab9-b046-daebc012753d"
      },
      "source": [
        "#It is necessary to save the model because to free the memory from the old dataset it is necessary to restart the machine\n",
        "\n",
        "model.save(sess)"
      ],
      "execution_count": null,
      "outputs": [
        {
          "output_type": "stream",
          "text": [
            "Model saved in file: tmp/gcn.ckpt\n"
          ],
          "name": "stdout"
        }
      ]
    },
    {
      "cell_type": "code",
      "metadata": {
        "colab": {
          "base_uri": "https://localhost:8080/",
          "height": 102
        },
        "id": "mosuG8sHEYcs",
        "outputId": "6d188426-bfd0-4256-9a76-9aa20ada8d62"
      },
      "source": [
        "#Download of the weight of the model, useful restore point\n",
        "\n",
        "!zip -r /content/tmp.zip /content/tmp\n",
        "files.download(\"/content/tmp.zip\")"
      ],
      "execution_count": null,
      "outputs": [
        {
          "output_type": "stream",
          "text": [
            "  adding: content/tmp/ (stored 0%)\n",
            "  adding: content/tmp/gcn.ckpt.meta (deflated 89%)\n",
            "  adding: content/tmp/gcn.ckpt.index (deflated 37%)\n",
            "  adding: content/tmp/checkpoint (deflated 38%)\n",
            "  adding: content/tmp/gcn.ckpt.data-00000-of-00001 (deflated 7%)\n"
          ],
          "name": "stdout"
        },
        {
          "output_type": "display_data",
          "data": {
            "application/javascript": [
              "\n",
              "    async function download(id, filename, size) {\n",
              "      if (!google.colab.kernel.accessAllowed) {\n",
              "        return;\n",
              "      }\n",
              "      const div = document.createElement('div');\n",
              "      const label = document.createElement('label');\n",
              "      label.textContent = `Downloading \"${filename}\": `;\n",
              "      div.appendChild(label);\n",
              "      const progress = document.createElement('progress');\n",
              "      progress.max = size;\n",
              "      div.appendChild(progress);\n",
              "      document.body.appendChild(div);\n",
              "\n",
              "      const buffers = [];\n",
              "      let downloaded = 0;\n",
              "\n",
              "      const channel = await google.colab.kernel.comms.open(id);\n",
              "      // Send a message to notify the kernel that we're ready.\n",
              "      channel.send({})\n",
              "\n",
              "      for await (const message of channel.messages) {\n",
              "        // Send a message to notify the kernel that we're ready.\n",
              "        channel.send({})\n",
              "        if (message.buffers) {\n",
              "          for (const buffer of message.buffers) {\n",
              "            buffers.push(buffer);\n",
              "            downloaded += buffer.byteLength;\n",
              "            progress.value = downloaded;\n",
              "          }\n",
              "        }\n",
              "      }\n",
              "      const blob = new Blob(buffers, {type: 'application/binary'});\n",
              "      const a = document.createElement('a');\n",
              "      a.href = window.URL.createObjectURL(blob);\n",
              "      a.download = filename;\n",
              "      div.appendChild(a);\n",
              "      a.click();\n",
              "      div.remove();\n",
              "    }\n",
              "  "
            ],
            "text/plain": [
              "<IPython.core.display.Javascript object>"
            ]
          },
          "metadata": {
            "tags": []
          }
        },
        {
          "output_type": "display_data",
          "data": {
            "application/javascript": [
              "download(\"download_68285ddc-8263-419c-932b-19c8064551fd\", \"tmp.zip\", 5533719)"
            ],
            "text/plain": [
              "<IPython.core.display.Javascript object>"
            ]
          },
          "metadata": {
            "tags": []
          }
        }
      ]
    },
    {
      "cell_type": "markdown",
      "metadata": {
        "id": "3e_Qmq7pLDUw"
      },
      "source": [
        "## Prediction pipeline\n",
        "\n",
        "Now that the network is trained it is necessary to structure the prediction functions. in fact, the network is able to predict only the next node in the sequence of the shortest path and not the sequence itself. In order to do it it is necessary to code an iterative evaluation."
      ]
    },
    {
      "cell_type": "markdown",
      "metadata": {
        "id": "Pesk5QkHvbYl"
      },
      "source": [
        "### Reinitialization\n",
        "\n",
        "It is necessary if the training and the prediction are performed in different moments."
      ]
    },
    {
      "cell_type": "code",
      "metadata": {
        "id": "kqkR5pXBWWer"
      },
      "source": [
        "from google.colab import files\n",
        "\n",
        "files.upload()"
      ],
      "execution_count": null,
      "outputs": []
    },
    {
      "cell_type": "code",
      "metadata": {
        "id": "Gg5e8SMJMwr5"
      },
      "source": [
        "! mkdir /content/gcn\n",
        "! mv __init__.py gcn\n",
        "! mv inits.py gcn\n",
        "! mv layers.py gcn\n",
        "! mv metrics.py gcn\n",
        "! mv models.py gcn\n",
        "! mv train.py gcn\n",
        "! mv utils.py gcn"
      ],
      "execution_count": 2,
      "outputs": []
    },
    {
      "cell_type": "code",
      "metadata": {
        "colab": {
          "base_uri": "https://localhost:8080/"
        },
        "id": "4prSruXQQ_OL",
        "outputId": "3f0557e4-6364-49d0-b383-4605605a23cd"
      },
      "source": [
        "!unzip /content/tmp.zip \n",
        "!mv /content/content/tmp /content/tmp"
      ],
      "execution_count": 3,
      "outputs": [
        {
          "output_type": "stream",
          "text": [
            "Archive:  /content/tmp.zip\n",
            "   creating: content/tmp/\n",
            "  inflating: content/tmp/gcn.ckpt.meta  \n",
            "  inflating: content/tmp/gcn.ckpt.index  \n",
            "  inflating: content/tmp/checkpoint  \n",
            "  inflating: content/tmp/gcn.ckpt.data-00000-of-00001  \n"
          ],
          "name": "stdout"
        }
      ]
    },
    {
      "cell_type": "code",
      "metadata": {
        "id": "Efd2T8hOgpq7"
      },
      "source": [
        "from __future__ import division\n",
        "from __future__ import print_function\n",
        "\n",
        "import time\n",
        "import tensorflow as tf\n",
        "from gcn.utils import *\n",
        "from gcn.inits import *\n",
        "from gcn.models import Model,MLP\n",
        "from gcn.layers import *\n",
        "\n",
        "import scipy as sp\n",
        "from scipy import sparse\n",
        "import numpy as np\n",
        "import networkx as nx\n",
        "import matplotlib.pyplot as plt"
      ],
      "execution_count": 1,
      "outputs": []
    },
    {
      "cell_type": "markdown",
      "metadata": {
        "id": "Hk_YGF93WhCU"
      },
      "source": [
        "## Target graph initializzation\n",
        "\n",
        "To perform a prediction on a single graph, it is sufficient to process it with the same function introduced before. In this case, the target graph has been randomly generated thanks to the Networkx function.\n",
        "\n",
        "**To change the start (a) and the destination (b) nodes open this section and modify the $5^{th}$ cell.**"
      ]
    },
    {
      "cell_type": "code",
      "metadata": {
        "collapsed": true,
        "id": "BkidIY8C-1f6"
      },
      "source": [
        "num_community = 1                                     \n",
        "node = [20 for i in range(num_community)]                \n",
        "GG = nx.random_partition_graph(node,.3,.0,seed=1996)       \n",
        "adj_GG = np.zeros((num_community, num_community))         \n",
        "\n",
        "    \n",
        "adj_sparse = sparse.csr_matrix(adj_GG)                    "
      ],
      "execution_count": 2,
      "outputs": []
    },
    {
      "cell_type": "code",
      "metadata": {
        "colab": {
          "base_uri": "https://localhost:8080/"
        },
        "id": "X07MmGruQ2PH",
        "outputId": "768b7965-e2be-4eae-dc3d-4c22004acf9a"
      },
      "source": [
        "adj_sparse"
      ],
      "execution_count": 3,
      "outputs": [
        {
          "output_type": "execute_result",
          "data": {
            "text/plain": [
              "<1x1 sparse matrix of type '<class 'numpy.float64'>'\n",
              "\twith 0 stored elements in Compressed Sparse Row format>"
            ]
          },
          "metadata": {
            "tags": []
          },
          "execution_count": 3
        }
      ]
    },
    {
      "cell_type": "code",
      "metadata": {
        "collapsed": true,
        "id": "Q_MFwK6i-1f8"
      },
      "source": [
        "partition = GG.graph['partition']                       "
      ],
      "execution_count": 4,
      "outputs": []
    },
    {
      "cell_type": "code",
      "metadata": {
        "id": "w9cugwjtQkxP"
      },
      "source": [
        "H = GG.subgraph(partition[0])\n",
        "adj = list(nx.adjacency_matrix(H).todense().tolist())"
      ],
      "execution_count": 5,
      "outputs": []
    },
    {
      "cell_type": "code",
      "metadata": {
        "id": "PXNtMHqwnfEq"
      },
      "source": [
        "a=7\n",
        "b=17\n",
        "adj = np.array(adj)\n",
        "adj[:,[a,0]] = adj[:,[0,a]]\n",
        "adj[[a,0],:] = adj[[0,a],:]\n",
        "adj[:,[b,19]] = adj[:,[b,19]]\n",
        "adj[[b,19],:] = adj[[19,b],:]"
      ],
      "execution_count": 6,
      "outputs": []
    },
    {
      "cell_type": "code",
      "metadata": {
        "id": "m6E4pJw9nfEr"
      },
      "source": [
        "adjlist = [[]]\n",
        "for element in adj:\n",
        "    adjlist[0].extend(element)                        \n",
        "    adjlist.append([])\n",
        "    \n",
        "adjlist = adjlist[0]\n",
        "adj_input = np.array(adjlist)\n",
        "features_sparse = sparse.csr_matrix(adj_input)"
      ],
      "execution_count": 7,
      "outputs": []
    },
    {
      "cell_type": "code",
      "metadata": {
        "colab": {
          "base_uri": "https://localhost:8080/"
        },
        "id": "Lt1RC0J_Qvk8",
        "outputId": "45067717-b8b7-4aee-e684-aee3a84802c7"
      },
      "source": [
        "features_sparse"
      ],
      "execution_count": 8,
      "outputs": [
        {
          "output_type": "execute_result",
          "data": {
            "text/plain": [
              "<1x400 sparse matrix of type '<class 'numpy.longlong'>'\n",
              "\twith 92 stored elements in Compressed Sparse Row format>"
            ]
          },
          "metadata": {
            "tags": []
          },
          "execution_count": 8
        }
      ]
    },
    {
      "cell_type": "code",
      "metadata": {
        "colab": {
          "base_uri": "https://localhost:8080/"
        },
        "id": "Qw1D2qDgRCTB",
        "outputId": "ae7f99fd-72f6-40fb-ee5d-b4a605caabc6"
      },
      "source": [
        "t = time.time()\n",
        "path = []                   \n",
        "try:\n",
        "    path.append([nx.shortest_path(GG.subgraph(partition[0]), source=a, target=b)])\n",
        "except:\n",
        "    path.append([0])\n",
        "t = time.time() - t\n",
        "t"
      ],
      "execution_count": 9,
      "outputs": [
        {
          "output_type": "execute_result",
          "data": {
            "text/plain": [
              "0.00020551681518554688"
            ]
          },
          "metadata": {
            "tags": []
          },
          "execution_count": 9
        }
      ]
    },
    {
      "cell_type": "code",
      "metadata": {
        "colab": {
          "base_uri": "https://localhost:8080/"
        },
        "id": "uuoA2lJIRGoJ",
        "outputId": "179ee1df-a797-4fda-fd01-3648d8ee5c8f"
      },
      "source": [
        "path"
      ],
      "execution_count": 10,
      "outputs": [
        {
          "output_type": "execute_result",
          "data": {
            "text/plain": [
              "[[[7, 1, 4, 17]]]"
            ]
          },
          "metadata": {
            "tags": []
          },
          "execution_count": 10
        }
      ]
    },
    {
      "cell_type": "code",
      "metadata": {
        "colab": {
          "base_uri": "https://localhost:8080/"
        },
        "id": "4MlqQXCKRNbM",
        "outputId": "bca093d5-3532-4fe3-f300-cb3c1e0318cc"
      },
      "source": [
        "y_pred = np.zeros((1, 19))\n",
        "y_pred"
      ],
      "execution_count": 11,
      "outputs": [
        {
          "output_type": "execute_result",
          "data": {
            "text/plain": [
              "array([[0., 0., 0., 0., 0., 0., 0., 0., 0., 0., 0., 0., 0., 0., 0., 0.,\n",
              "        0., 0., 0.]])"
            ]
          },
          "metadata": {
            "tags": []
          },
          "execution_count": 11
        }
      ]
    },
    {
      "cell_type": "code",
      "metadata": {
        "colab": {
          "base_uri": "https://localhost:8080/"
        },
        "id": "_gu2LwaYRnco",
        "outputId": "d96f9eaa-f7c9-4948-f306-5bd393119e94"
      },
      "source": [
        "pred_mask = np.zeros(1)\n",
        "pred_mask[0] = 1 \n",
        "pred_mask = np.array(pred_mask, dtype=np.bool)\n",
        "pred_mask"
      ],
      "execution_count": 12,
      "outputs": [
        {
          "output_type": "execute_result",
          "data": {
            "text/plain": [
              "array([ True])"
            ]
          },
          "metadata": {
            "tags": []
          },
          "execution_count": 12
        }
      ]
    },
    {
      "cell_type": "code",
      "metadata": {
        "id": "srcmKtxdRsCr"
      },
      "source": [
        "adj = adj_sparse\n",
        "features = features_sparse   "
      ],
      "execution_count": 13,
      "outputs": []
    },
    {
      "cell_type": "markdown",
      "metadata": {
        "id": "tx503YBHWx7P"
      },
      "source": [
        "## GCN reinitialization\n",
        "\n",
        "**Do not execute this section if the training and the prediction are performed sequentially!**\n",
        "\n",
        "If you want to skip the training section you have to execute this section too because you need to specify the network in which the weights will be loaded to perform the prediction."
      ]
    },
    {
      "cell_type": "code",
      "metadata": {
        "id": "zv51qfVuR-Wy"
      },
      "source": [
        "#Slightly modified version of Kipf 2017 Model\n",
        "\n",
        "class GCN(Model):\n",
        "    def __init__(self, placeholders, input_dim, **kwargs):\n",
        "        super(GCN, self).__init__(**kwargs)\n",
        "\n",
        "        self.inputs = placeholders['features']\n",
        "        self.input_dim = input_dim\n",
        "        self.output_dim = placeholders['labels'].get_shape().as_list()[1]\n",
        "        self.placeholders = placeholders\n",
        "\n",
        "        self.optimizer = tf.train.AdamOptimizer(learning_rate=FLAGS.learning_rate)\n",
        "\n",
        "        self.build()\n",
        "\n",
        "    def _loss(self):\n",
        "        for var in self.layers[0].vars.values():\n",
        "            self.loss += FLAGS.weight_decay * tf.nn.l2_loss(var)\n",
        "\n",
        "        self.loss += masked_softmax_cross_entropy(self.outputs, self.placeholders['labels'],\n",
        "                                                  self.placeholders['labels_mask'])\n",
        "\n",
        "    def _accuracy(self):\n",
        "        self.accuracy = masked_accuracy(self.outputs, self.placeholders['labels'],\n",
        "                                        self.placeholders['labels_mask'])\n",
        "\n",
        "    def _build(self):\n",
        "\n",
        "        self.layers.append(GraphConvolution(input_dim=self.input_dim,\n",
        "                                            output_dim=FLAGS.hidden1,\n",
        "                                            placeholders=self.placeholders,\n",
        "                                            act=tf.nn.relu,\n",
        "                                            dropout=True,\n",
        "                                            sparse_inputs=True,\n",
        "                                            logging=self.logging))\n",
        "\n",
        "        self.layers.append(GraphConvolution(input_dim=FLAGS.hidden1,\n",
        "                                            output_dim=FLAGS.hidden2,\n",
        "                                            placeholders=self.placeholders,\n",
        "                                            act=tf.nn.relu,                      \n",
        "                                            dropout=True,\n",
        "                                            logging=self.logging))\n",
        "        \n",
        "        self.layers.append(GraphConvolution(input_dim=FLAGS.hidden2,\n",
        "                                            output_dim=self.output_dim,\n",
        "                                            placeholders=self.placeholders,\n",
        "                                            act=lambda x: x,\n",
        "                                            dropout=True,\n",
        "                                            logging=self.logging))\n",
        "\n",
        "    def predict(self):\n",
        "        return tf.nn.softmax(self.outputs)"
      ],
      "execution_count": 14,
      "outputs": []
    },
    {
      "cell_type": "code",
      "metadata": {
        "colab": {
          "base_uri": "https://localhost:8080/"
        },
        "id": "5ArH3n3DSR8E",
        "outputId": "91db4410-1f7e-45da-9c02-a4ce6006f9f5"
      },
      "source": [
        "def sparse_to_tuple(sparse_mx):\n",
        "    def to_tuple(mx):\n",
        "        if not sp.sparse.isspmatrix_coo(mx):\n",
        "            mx = mx.tocoo()\n",
        "        coords = np.vstack((mx.row, mx.col)).transpose()\n",
        "        values = mx.data\n",
        "        shape = mx.shape\n",
        "        return coords, values, shape\n",
        "\n",
        "    if isinstance(sparse_mx, list):\n",
        "        for i in range(len(sparse_mx)):\n",
        "            sparse_mx[i] = to_tuple(sparse_mx[i])\n",
        "    else:\n",
        "        sparse_mx = to_tuple(sparse_mx)\n",
        "\n",
        "    return sparse_mx\n",
        "\n",
        "    \n",
        "\n",
        "def normalize_adj(adj): \n",
        "    adj = sp.sparse.coo_matrix(adj)\n",
        "    rowsum = np.array(adj.sum(1))                           \n",
        "    d_inv_sqrt = np.power(rowsum, -0.5).flatten()\n",
        "    d_inv_sqrt[np.isinf(d_inv_sqrt)] = 0.\n",
        "    d_mat_inv_sqrt = sp.sparse.diags(d_inv_sqrt, 0)\n",
        "    return adj.dot(d_mat_inv_sqrt).transpose().dot(d_mat_inv_sqrt).tocoo()\n",
        "\n",
        "\n",
        "\n",
        "def preprocess_adj(adj):\n",
        "    adj_normalized = normalize_adj(adj + sp.sparse.eye(adj.shape[0]))\n",
        "    return sparse_to_tuple(adj_normalized)\n",
        "\n",
        "\n",
        "\n",
        "num_supports = 1\n",
        "model_func = GCN\n",
        "support = [preprocess_adj(adj)]\n",
        "\n",
        "support"
      ],
      "execution_count": 15,
      "outputs": [
        {
          "output_type": "execute_result",
          "data": {
            "text/plain": [
              "[(array([[0, 0]], dtype=int32), array([1.]), (1, 1))]"
            ]
          },
          "metadata": {
            "tags": []
          },
          "execution_count": 15
        }
      ]
    },
    {
      "cell_type": "code",
      "metadata": {
        "colab": {
          "base_uri": "https://localhost:8080/"
        },
        "id": "Ah64mJ1ZSTRP",
        "outputId": "22e1c906-07e4-49de-f0b7-bb0306f32345"
      },
      "source": [
        "def preprocess_features(features):\n",
        "    rowsum = np.array(features.sum(1))                      \n",
        "    r_inv1 = np.power(rowsum, -0.5).flatten()\n",
        "    r_inv2 = np.power(rowsum, -0.5).flatten()\n",
        "    r_inv = np.multiply(r_inv1, r_inv2)\n",
        "    r_inv[np.isinf(r_inv)] = 0.\n",
        "    r_mat_inv = sp.sparse.diags(r_inv, 0)\n",
        "    features = r_mat_inv.dot(features)\n",
        "    return sparse_to_tuple(features)\n",
        "\n",
        "\n",
        "features = preprocess_features(features)\n",
        "\n",
        "features[0].shape"
      ],
      "execution_count": 16,
      "outputs": [
        {
          "output_type": "execute_result",
          "data": {
            "text/plain": [
              "(92, 2)"
            ]
          },
          "metadata": {
            "tags": []
          },
          "execution_count": 16
        }
      ]
    },
    {
      "cell_type": "code",
      "metadata": {
        "id": "Llu_EnxKTa0_"
      },
      "source": [
        "def masked_softmax_cross_entropy(preds, labels, mask):                      \n",
        "    loss = tf.nn.softmax_cross_entropy_with_logits(logits=preds, labels=labels)\n",
        "    mask = tf.cast(mask, dtype=tf.float32)\n",
        "    mask /= tf.reduce_mean(mask)\n",
        "    loss *= mask\n",
        "    return tf.reduce_mean(loss)\n",
        "\n",
        "def masked_mean_square_error(preds,labels,mask):                            \n",
        "    loss = tf.nn.l2_loss(preds - labels)\n",
        "    mask = tf.cast(mask, dtype=tf.float32)\n",
        "    mask /= tf.reduce_mean(mask)\n",
        "    loss *= mask\n",
        "    return tf.reduce_mean(loss)\n",
        "\n",
        "def masked_accuracy(preds, labels, mask):                                    \n",
        "    correct_prediction = tf.equal(tf.argmax(preds, 1), tf.argmax(labels, 1))\n",
        "    accuracy_all = tf.cast(correct_prediction, tf.float32)\n",
        "    mask = tf.cast(mask, dtype=tf.float32)\n",
        "    mask /= tf.reduce_mean(mask)\n",
        "    accuracy_all *= mask\n",
        "    return tf.reduce_mean(accuracy_all)"
      ],
      "execution_count": 17,
      "outputs": []
    },
    {
      "cell_type": "code",
      "metadata": {
        "colab": {
          "base_uri": "https://localhost:8080/"
        },
        "id": "9SGHHQPuTlUJ",
        "outputId": "6318ecaf-26df-4bf1-b2b6-8c485da4eaa9"
      },
      "source": [
        "#Set random seed\n",
        "\n",
        "seed = 17\n",
        "np.random.seed(seed)\n",
        "tf.set_random_seed(seed)\n",
        "\n",
        "\n",
        "\n",
        "#Settings\n",
        "\n",
        "flags = tf.app.flags\n",
        "FLAGS = flags.FLAGS\n",
        "\n",
        "\n",
        "\n",
        "#Definition of network and training parameters\n",
        "\n",
        "flags.DEFINE_string('model', 'gcn', 'Model string.')  \n",
        "flags.DEFINE_float('learning_rate', 1e-4, 'Initial learning rate.')\n",
        "\n",
        "flags.DEFINE_integer('epochs', 1000, 'Number of epochs to train.')\n",
        "flags.DEFINE_integer('hidden1', 1024, 'Number of units in hidden layer 1.')\n",
        "flags.DEFINE_integer('hidden2', 1024, 'Number of units in hidden layer 2.')\n",
        "flags.DEFINE_float('dropout', 0.5, 'Dropout rate (1 - keep probability).')\n",
        "\n",
        "flags.DEFINE_float('weight_decay', 5e-4, 'Weight for L2 loss on embedding matrix.')\n",
        "\n",
        "flags.DEFINE_integer('early_stopping', 300, 'Tolerance for early stopping (# of epochs).')\n",
        "flags.DEFINE_integer('max_degree', 3, 'Maximum Chebyshev polynomial degree.')"
      ],
      "execution_count": 18,
      "outputs": [
        {
          "output_type": "execute_result",
          "data": {
            "text/plain": [
              "<absl.flags._flagvalues.FlagHolder at 0x7f7594748910>"
            ]
          },
          "metadata": {
            "tags": []
          },
          "execution_count": 18
        }
      ]
    },
    {
      "cell_type": "code",
      "metadata": {
        "id": "OAVjblBDTzYJ",
        "colab": {
          "base_uri": "https://localhost:8080/"
        },
        "outputId": "99b1843f-ea69-449b-8a15-817994a14d20"
      },
      "source": [
        "#Extraction of the network configuration parameters\n",
        "\n",
        "remaining_args = FLAGS([sys.argv[0]] + [flag for flag in sys.argv if flag.startswith(\"--\")])\n",
        "assert(remaining_args == [sys.argv[0]])\n",
        "if (FLAGS.model == 'gcn'):\n",
        "    support = [preprocess_adj(adj)]\n",
        "    num_supports = 1\n",
        "    model_func = GCN\n",
        "elif FLAGS.model == 'gcn_cheby':\n",
        "    support = chebyshev_polynomials(adj, FLAGS.max_degree)\n",
        "    num_supports = 1 + FLAGS.max_degree\n",
        "    model_func = GCN\n",
        "elif FLAGS.model == 'dense':\n",
        "    support = [preprocess_adj(adj)] \n",
        "    num_supports = 1\n",
        "    model_func = MLP\n",
        "else:\n",
        "    raise ValueError('Invalid argument for model: ' + str(FLAGS.model))\n",
        "\n",
        "\n",
        "\n",
        "#Definition of placeholders as provided by Kipf\n",
        "\n",
        "tf.compat.v1.disable_eager_execution()\n",
        "placeholders = {\n",
        "    'support': [tf.sparse_placeholder(tf.float32) for _ in range(num_supports)],\n",
        "    'features': tf.sparse_placeholder(tf.float32, shape=tf.constant(features[2], dtype=tf.int64)),\n",
        "    'labels': tf.placeholder(tf.float32, shape=(None, y_pred.shape[1])),\n",
        "    'labels_mask': tf.placeholder(tf.int32),\n",
        "    'dropout': tf.placeholder_with_default(0., shape=()),\n",
        "    'num_features_nonzero': tf.placeholder(tf.int32)  \n",
        "}\n",
        "\n",
        "\n",
        "\n",
        "#Declaration of the model\n",
        "\n",
        "model = model_func(placeholders, input_dim=features[2][1], logging=True)\n",
        "\n",
        "\n",
        "\n",
        "#Session initialization\n",
        "\n",
        "sess = tf.Session()\n",
        "\n",
        "def evaluate(features, support, labels, mask, placeholders):\n",
        "    t_test = time.time()\n",
        "    feed_dict_val = construct_feed_dict(features, support, labels, mask, placeholders)\n",
        "    outs_val = sess.run([model.loss, model.accuracy], feed_dict=feed_dict_val)\n",
        "    return outs_val[0], outs_val[1], (time.time() - t_test)"
      ],
      "execution_count": 19,
      "outputs": [
        {
          "output_type": "stream",
          "text": [
            "WARNING:tensorflow:From /usr/local/lib/python3.7/dist-packages/tensorflow/python/util/dispatch.py:201: calling dropout (from tensorflow.python.ops.nn_ops) with keep_prob is deprecated and will be removed in a future version.\n",
            "Instructions for updating:\n",
            "Please use `rate` instead of `keep_prob`. Rate should be set to `rate = 1 - keep_prob`.\n",
            "WARNING:tensorflow:From /usr/local/lib/python3.7/dist-packages/tensorflow/python/util/dispatch.py:201: softmax_cross_entropy_with_logits (from tensorflow.python.ops.nn_ops) is deprecated and will be removed in a future version.\n",
            "Instructions for updating:\n",
            "\n",
            "Future major versions of TensorFlow will allow gradients to flow\n",
            "into the labels input on backprop by default.\n",
            "\n",
            "See `tf.nn.softmax_cross_entropy_with_logits_v2`.\n",
            "\n"
          ],
          "name": "stdout"
        }
      ]
    },
    {
      "cell_type": "code",
      "metadata": {
        "id": "v2piRdHxUJwl"
      },
      "source": [
        "#Same as Kipf 2017, function to compile the training dictionary\n",
        "\n",
        "def construct_feed_dict(features, support, labels, labels_mask, placeholders):\n",
        "    feed_dict = dict()\n",
        "    feed_dict.update({placeholders['labels']: labels})\n",
        "    feed_dict.update({placeholders['labels_mask']: labels_mask})\n",
        "    feed_dict.update({placeholders['features']: features})\n",
        "    feed_dict.update({placeholders['support'][i]: support[i] for i in range(len(support))})\n",
        "    feed_dict.update({placeholders['num_features_nonzero']: features[1].shape})\n",
        "    return feed_dict"
      ],
      "execution_count": 20,
      "outputs": []
    },
    {
      "cell_type": "markdown",
      "metadata": {
        "id": "lw-4JrRXW_9U"
      },
      "source": [
        "## Prediction pipeline\n",
        "\n",
        "In this pipeline the prediction is performed 10 times for each node to improve the performance of the model that achieves only 70% of accuracy for each node so, in a sequence of 5 node the probability to predict it right is exactly 16,8% and so most probably the output sequence will be wrong.\n",
        "\n",
        "In this case the sequence consists in  4 nodes and so 3 of them are predicted, the probability to obtain a right sequence is about 34% but it is slightly improved by an inference function that is explained in detail in the paper attached to this notebook."
      ]
    },
    {
      "cell_type": "code",
      "metadata": {
        "id": "UYQPcsseXC8d"
      },
      "source": [
        "num_supports = 1\n",
        "model_func = GCN\n",
        "features = preprocess_features(features_sparse)\n",
        "support = [preprocess_adj(adj)]"
      ],
      "execution_count": 21,
      "outputs": []
    },
    {
      "cell_type": "code",
      "metadata": {
        "colab": {
          "base_uri": "https://localhost:8080/"
        },
        "id": "H_juE0fYcpWj",
        "outputId": "95b8c694-9f6d-40ab-9d72-099c6c2e06e0"
      },
      "source": [
        "X=7\n",
        "predicted_path = [X]\n",
        "\n",
        "sess.run(tf.global_variables_initializer())\n",
        "model.load(sess)                                                                              #Loading weights from training pipeline\n",
        "\n",
        "while (X!=b):\n",
        "\n",
        "  #t = time.time()\n",
        "  \n",
        "  # Construct feed dictionary\n",
        "  feed_dict = construct_feed_dict(features, support, y_pred, pred_mask, placeholders)\n",
        "  feed_dict.update({placeholders['dropout']: FLAGS.dropout})\n",
        "\n",
        "  results = []\n",
        "  for i in range(10):                                                                           #Appending a new row containing the output of the inference to results[] for each iteration\n",
        "    outs = sess.run([model.opt_op, model.loss, model.accuracy, model.predict()], feed_dict=feed_dict)\n",
        "    test_cost, test_acc, test_duration = evaluate(features, support, y_pred, pred_mask, placeholders)\n",
        "    results.append(np.argmax(outs[3][0]))\n",
        "\n",
        "  count = np.bincount(results)\n",
        "\n",
        "  if (len(count) == 19):                                                                        #If the system predicts node 19 less than 7 times ignore its occurrences in the results[] vector\n",
        "    if (count[18] < 7):\n",
        "      count[18] = 0\n",
        "  \n",
        "  result = np.argmax(count)                                                                     #Keep as output the node with more occurrences\n",
        "  \n",
        "  #print(results)\n",
        "  #print(\"Time elapsed: \", time.time()-t)\n",
        "\n",
        "  X = (result+1)\n",
        "\n",
        "  if (X==a):                                                                                    #The node with the sorce index has been sobstituted with node number 0 at the beginning\n",
        "    X = 0\n",
        "  elif X==b:                                                                                    #The node with the destination index has been sobstituted with node number 19 at the beginning\n",
        "    X = 19\n",
        "  elif X==19:                                                                                   #The node with the index 19 has been sobstituted with the destination node at the beginning\n",
        "    X = b\n",
        "  predicted_path.append(X)\n",
        "\n",
        "  adj = np.array(nx.adjacency_matrix(H).todense().tolist())                                     #Now the predicted node become the node number 0 because it is considered as the new source node\n",
        "  adj[:,[X,0]] = adj[:,[0,X]]\n",
        "  adj[[X,0],:] = adj[[0,X],:]\n",
        "\n",
        "  adjlist = [[]]\n",
        "  adj = list(adj)\n",
        "  for element in adj:\n",
        "      adjlist[0].extend(element) \n",
        "      adjlist.append([])\n",
        "      \n",
        "  adjlist = adjlist[0]\n",
        "  adj_input = np.array(adjlist)\n",
        "  features_sparse = sparse.csr_matrix(adj_input)\n",
        "\n",
        "  features = features_sparse   \n",
        "\n",
        "  features = preprocess_features(features)\n",
        "\n",
        "#print(predicted_path)\n",
        "processed_pred_path = sorted(set(predicted_path), key=predicted_path.index)\n",
        "print(\"\\n\")\n",
        "if (processed_pred_path == path[0][0]):\n",
        "  print(\"The predicted path matches the Dijkstra shortest path!\")\n",
        "elif (len(processed_pred_path) == len(path[0][0])):\n",
        "  print(\"The predicted path DOESN'T match the Dijkstra shortest path but they are the same length!\")\n",
        "elif (len(processed_pred_path) != len(path[0][0])):\n",
        "  print(\"The predicted path DOESN'T match the Dijkstra shortest path and they are NOT the same length!\")\n",
        "\n",
        "print(\"The predicted path is: \", processed_pred_path)"
      ],
      "execution_count": 22,
      "outputs": [
        {
          "output_type": "stream",
          "text": [
            "INFO:tensorflow:Restoring parameters from tmp/gcn.ckpt\n",
            "Model restored from file: tmp/gcn.ckpt\n",
            "\n",
            "\n",
            "The predicted path matches the Dijkstra shortest path!\n",
            "The predicted path is:  [7, 1, 4, 17]\n"
          ],
          "name": "stdout"
        }
      ]
    },
    {
      "cell_type": "code",
      "metadata": {
        "colab": {
          "base_uri": "https://localhost:8080/",
          "height": 319
        },
        "id": "VFspX0azQXWr",
        "outputId": "2327e8b8-8ccd-4027-da8b-9ca568c41933"
      },
      "source": [
        "nx.draw(GG, with_labels = True)"
      ],
      "execution_count": 23,
      "outputs": [
        {
          "output_type": "display_data",
          "data": {
            "image/png": "[encoded data removed]",
            "text/plain": [
              "<Figure size 432x288 with 1 Axes>"
            ]
          },
          "metadata": {
            "tags": []
          }
        }
      ]
    }
  ]
}